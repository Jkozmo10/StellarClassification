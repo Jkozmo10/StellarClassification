{
  "cells": [
    {
      "cell_type": "markdown",
      "metadata": {
        "id": "vIdnfRPpJwSo"
      },
      "source": [
        "This is Jeremy Kozlowski's senior project, advised by Dr. Franz Kurfess. It explores machine learning applications for stellar classification. The following tutorial trains the models as well as makes predictions. Prerequisites: Python fundamentals"
      ]
    },
    {
      "cell_type": "markdown",
      "metadata": {
        "id": "Qt1wQEsgKHs_"
      },
      "source": [
        "# Training"
      ]
    },
    {
      "cell_type": "markdown",
      "metadata": {
        "id": "8Xgm15rIKL7t"
      },
      "source": [
        "In this section, we will train various models on the data set."
      ]
    },
    {
      "cell_type": "markdown",
      "metadata": {
        "id": "jZzTB4SdKaEo"
      },
      "source": [
        "We will first import all necessary libraries and read in the dataset."
      ]
    },
    {
      "cell_type": "code",
      "execution_count": null,
      "metadata": {
        "id": "KnkblK5PJshG"
      },
      "outputs": [],
      "source": [
        "import pandas as pd\n",
        "import numpy as np\n",
        "from sklearn.model_selection import train_test_split\n",
        "from sklearn.neighbors import KNeighborsClassifier\n",
        "from sklearn.model_selection import cross_val_score\n",
        "from sklearn.preprocessing import StandardScaler\n",
        "import matplotlib.pyplot as plt\n",
        "from sklearn.metrics import accuracy_score\n",
        "from sklearn.preprocessing import LabelEncoder\n",
        "from sklearn.metrics import precision_score, recall_score, f1_score\n",
        "from sklearn.model_selection import GridSearchCV\n",
        "from sklearn.pipeline import make_pipeline\n",
        "from sklearn.compose import make_column_transformer\n",
        "import tensorflow as tf\n",
        "from sklearn import svm\n",
        "from sklearn.tree import DecisionTreeClassifier\n",
        "import matplotlib.pyplot as plt\n",
        "from sklearn.model_selection import RandomizedSearchCV\n",
        "from sklearn.ensemble import RandomForestClassifier\n",
        "from scipy.stats import randint\n",
        "from sklearn.naive_bayes import GaussianNB\n",
        "from sklearn.metrics import accuracy_score\n",
        "import pickle"
      ]
    },
    {
      "cell_type": "code",
      "execution_count": null,
      "metadata": {
        "colab": {
          "base_uri": "https://localhost:8080/",
          "height": 444
        },
        "id": "mLyWK-iMKpUu",
        "outputId": "ac418c6b-9f19-43a4-f018-3c445af2fbcf"
      },
      "outputs": [
        {
          "output_type": "execute_result",
          "data": {
            "text/plain": [
              "             obj_ID       alpha      delta         u         g         r  \\\n",
              "0      1.237661e+18  135.689107  32.494632  23.87882  22.27530  20.39501   \n",
              "1      1.237665e+18  144.826101  31.274185  24.77759  22.83188  22.58444   \n",
              "2      1.237661e+18  142.188790  35.582444  25.26307  22.66389  20.60976   \n",
              "3      1.237663e+18  338.741038  -0.402828  22.13682  23.77656  21.61162   \n",
              "4      1.237680e+18  345.282593  21.183866  19.43718  17.58028  16.49747   \n",
              "...             ...         ...        ...       ...       ...       ...   \n",
              "99995  1.237679e+18   39.620709  -2.594074  22.16759  22.97586  21.90404   \n",
              "99996  1.237679e+18   29.493819  19.798874  22.69118  22.38628  20.45003   \n",
              "99997  1.237668e+18  224.587407  15.700707  21.16916  19.26997  18.20428   \n",
              "99998  1.237661e+18  212.268621  46.660365  25.35039  21.63757  19.91386   \n",
              "99999  1.237661e+18  196.896053  49.464643  22.62171  21.79745  20.60115   \n",
              "\n",
              "              i         z  run_ID  rerun_ID  cam_col  field_ID   spec_obj_ID  \\\n",
              "0      19.16573  18.79371    3606       301        2        79  6.543777e+18   \n",
              "1      21.16812  21.61427    4518       301        5       119  1.176014e+19   \n",
              "2      19.34857  18.94827    3606       301        2       120  5.152200e+18   \n",
              "3      20.50454  19.25010    4192       301        3       214  1.030107e+19   \n",
              "4      15.97711  15.54461    8102       301        3       137  6.891865e+18   \n",
              "...         ...       ...     ...       ...      ...       ...           ...   \n",
              "99995  21.30548  20.73569    7778       301        2       581  1.055431e+19   \n",
              "99996  19.75759  19.41526    7917       301        1       289  8.586351e+18   \n",
              "99997  17.69034  17.35221    5314       301        4       308  3.112008e+18   \n",
              "99998  19.07254  18.62482    3650       301        4       131  7.601080e+18   \n",
              "99999  20.00959  19.28075    3650       301        4        60  8.343152e+18   \n",
              "\n",
              "        class  redshift  plate    MJD  fiber_ID  \n",
              "0      GALAXY  0.634794   5812  56354       171  \n",
              "1      GALAXY  0.779136  10445  58158       427  \n",
              "2      GALAXY  0.644195   4576  55592       299  \n",
              "3      GALAXY  0.932346   9149  58039       775  \n",
              "4      GALAXY  0.116123   6121  56187       842  \n",
              "...       ...       ...    ...    ...       ...  \n",
              "99995  GALAXY  0.000000   9374  57749       438  \n",
              "99996  GALAXY  0.404895   7626  56934       866  \n",
              "99997  GALAXY  0.143366   2764  54535        74  \n",
              "99998  GALAXY  0.455040   6751  56368       470  \n",
              "99999  GALAXY  0.542944   7410  57104       851  \n",
              "\n",
              "[100000 rows x 18 columns]"
            ],
            "text/html": [
              "\n",
              "  <div id=\"df-d83a3fae-a5f7-475f-974c-3463c1ab95db\" class=\"colab-df-container\">\n",
              "    <div>\n",
              "<style scoped>\n",
              "    .dataframe tbody tr th:only-of-type {\n",
              "        vertical-align: middle;\n",
              "    }\n",
              "\n",
              "    .dataframe tbody tr th {\n",
              "        vertical-align: top;\n",
              "    }\n",
              "\n",
              "    .dataframe thead th {\n",
              "        text-align: right;\n",
              "    }\n",
              "</style>\n",
              "<table border=\"1\" class=\"dataframe\">\n",
              "  <thead>\n",
              "    <tr style=\"text-align: right;\">\n",
              "      <th></th>\n",
              "      <th>obj_ID</th>\n",
              "      <th>alpha</th>\n",
              "      <th>delta</th>\n",
              "      <th>u</th>\n",
              "      <th>g</th>\n",
              "      <th>r</th>\n",
              "      <th>i</th>\n",
              "      <th>z</th>\n",
              "      <th>run_ID</th>\n",
              "      <th>rerun_ID</th>\n",
              "      <th>cam_col</th>\n",
              "      <th>field_ID</th>\n",
              "      <th>spec_obj_ID</th>\n",
              "      <th>class</th>\n",
              "      <th>redshift</th>\n",
              "      <th>plate</th>\n",
              "      <th>MJD</th>\n",
              "      <th>fiber_ID</th>\n",
              "    </tr>\n",
              "  </thead>\n",
              "  <tbody>\n",
              "    <tr>\n",
              "      <th>0</th>\n",
              "      <td>1.237661e+18</td>\n",
              "      <td>135.689107</td>\n",
              "      <td>32.494632</td>\n",
              "      <td>23.87882</td>\n",
              "      <td>22.27530</td>\n",
              "      <td>20.39501</td>\n",
              "      <td>19.16573</td>\n",
              "      <td>18.79371</td>\n",
              "      <td>3606</td>\n",
              "      <td>301</td>\n",
              "      <td>2</td>\n",
              "      <td>79</td>\n",
              "      <td>6.543777e+18</td>\n",
              "      <td>GALAXY</td>\n",
              "      <td>0.634794</td>\n",
              "      <td>5812</td>\n",
              "      <td>56354</td>\n",
              "      <td>171</td>\n",
              "    </tr>\n",
              "    <tr>\n",
              "      <th>1</th>\n",
              "      <td>1.237665e+18</td>\n",
              "      <td>144.826101</td>\n",
              "      <td>31.274185</td>\n",
              "      <td>24.77759</td>\n",
              "      <td>22.83188</td>\n",
              "      <td>22.58444</td>\n",
              "      <td>21.16812</td>\n",
              "      <td>21.61427</td>\n",
              "      <td>4518</td>\n",
              "      <td>301</td>\n",
              "      <td>5</td>\n",
              "      <td>119</td>\n",
              "      <td>1.176014e+19</td>\n",
              "      <td>GALAXY</td>\n",
              "      <td>0.779136</td>\n",
              "      <td>10445</td>\n",
              "      <td>58158</td>\n",
              "      <td>427</td>\n",
              "    </tr>\n",
              "    <tr>\n",
              "      <th>2</th>\n",
              "      <td>1.237661e+18</td>\n",
              "      <td>142.188790</td>\n",
              "      <td>35.582444</td>\n",
              "      <td>25.26307</td>\n",
              "      <td>22.66389</td>\n",
              "      <td>20.60976</td>\n",
              "      <td>19.34857</td>\n",
              "      <td>18.94827</td>\n",
              "      <td>3606</td>\n",
              "      <td>301</td>\n",
              "      <td>2</td>\n",
              "      <td>120</td>\n",
              "      <td>5.152200e+18</td>\n",
              "      <td>GALAXY</td>\n",
              "      <td>0.644195</td>\n",
              "      <td>4576</td>\n",
              "      <td>55592</td>\n",
              "      <td>299</td>\n",
              "    </tr>\n",
              "    <tr>\n",
              "      <th>3</th>\n",
              "      <td>1.237663e+18</td>\n",
              "      <td>338.741038</td>\n",
              "      <td>-0.402828</td>\n",
              "      <td>22.13682</td>\n",
              "      <td>23.77656</td>\n",
              "      <td>21.61162</td>\n",
              "      <td>20.50454</td>\n",
              "      <td>19.25010</td>\n",
              "      <td>4192</td>\n",
              "      <td>301</td>\n",
              "      <td>3</td>\n",
              "      <td>214</td>\n",
              "      <td>1.030107e+19</td>\n",
              "      <td>GALAXY</td>\n",
              "      <td>0.932346</td>\n",
              "      <td>9149</td>\n",
              "      <td>58039</td>\n",
              "      <td>775</td>\n",
              "    </tr>\n",
              "    <tr>\n",
              "      <th>4</th>\n",
              "      <td>1.237680e+18</td>\n",
              "      <td>345.282593</td>\n",
              "      <td>21.183866</td>\n",
              "      <td>19.43718</td>\n",
              "      <td>17.58028</td>\n",
              "      <td>16.49747</td>\n",
              "      <td>15.97711</td>\n",
              "      <td>15.54461</td>\n",
              "      <td>8102</td>\n",
              "      <td>301</td>\n",
              "      <td>3</td>\n",
              "      <td>137</td>\n",
              "      <td>6.891865e+18</td>\n",
              "      <td>GALAXY</td>\n",
              "      <td>0.116123</td>\n",
              "      <td>6121</td>\n",
              "      <td>56187</td>\n",
              "      <td>842</td>\n",
              "    </tr>\n",
              "    <tr>\n",
              "      <th>...</th>\n",
              "      <td>...</td>\n",
              "      <td>...</td>\n",
              "      <td>...</td>\n",
              "      <td>...</td>\n",
              "      <td>...</td>\n",
              "      <td>...</td>\n",
              "      <td>...</td>\n",
              "      <td>...</td>\n",
              "      <td>...</td>\n",
              "      <td>...</td>\n",
              "      <td>...</td>\n",
              "      <td>...</td>\n",
              "      <td>...</td>\n",
              "      <td>...</td>\n",
              "      <td>...</td>\n",
              "      <td>...</td>\n",
              "      <td>...</td>\n",
              "      <td>...</td>\n",
              "    </tr>\n",
              "    <tr>\n",
              "      <th>99995</th>\n",
              "      <td>1.237679e+18</td>\n",
              "      <td>39.620709</td>\n",
              "      <td>-2.594074</td>\n",
              "      <td>22.16759</td>\n",
              "      <td>22.97586</td>\n",
              "      <td>21.90404</td>\n",
              "      <td>21.30548</td>\n",
              "      <td>20.73569</td>\n",
              "      <td>7778</td>\n",
              "      <td>301</td>\n",
              "      <td>2</td>\n",
              "      <td>581</td>\n",
              "      <td>1.055431e+19</td>\n",
              "      <td>GALAXY</td>\n",
              "      <td>0.000000</td>\n",
              "      <td>9374</td>\n",
              "      <td>57749</td>\n",
              "      <td>438</td>\n",
              "    </tr>\n",
              "    <tr>\n",
              "      <th>99996</th>\n",
              "      <td>1.237679e+18</td>\n",
              "      <td>29.493819</td>\n",
              "      <td>19.798874</td>\n",
              "      <td>22.69118</td>\n",
              "      <td>22.38628</td>\n",
              "      <td>20.45003</td>\n",
              "      <td>19.75759</td>\n",
              "      <td>19.41526</td>\n",
              "      <td>7917</td>\n",
              "      <td>301</td>\n",
              "      <td>1</td>\n",
              "      <td>289</td>\n",
              "      <td>8.586351e+18</td>\n",
              "      <td>GALAXY</td>\n",
              "      <td>0.404895</td>\n",
              "      <td>7626</td>\n",
              "      <td>56934</td>\n",
              "      <td>866</td>\n",
              "    </tr>\n",
              "    <tr>\n",
              "      <th>99997</th>\n",
              "      <td>1.237668e+18</td>\n",
              "      <td>224.587407</td>\n",
              "      <td>15.700707</td>\n",
              "      <td>21.16916</td>\n",
              "      <td>19.26997</td>\n",
              "      <td>18.20428</td>\n",
              "      <td>17.69034</td>\n",
              "      <td>17.35221</td>\n",
              "      <td>5314</td>\n",
              "      <td>301</td>\n",
              "      <td>4</td>\n",
              "      <td>308</td>\n",
              "      <td>3.112008e+18</td>\n",
              "      <td>GALAXY</td>\n",
              "      <td>0.143366</td>\n",
              "      <td>2764</td>\n",
              "      <td>54535</td>\n",
              "      <td>74</td>\n",
              "    </tr>\n",
              "    <tr>\n",
              "      <th>99998</th>\n",
              "      <td>1.237661e+18</td>\n",
              "      <td>212.268621</td>\n",
              "      <td>46.660365</td>\n",
              "      <td>25.35039</td>\n",
              "      <td>21.63757</td>\n",
              "      <td>19.91386</td>\n",
              "      <td>19.07254</td>\n",
              "      <td>18.62482</td>\n",
              "      <td>3650</td>\n",
              "      <td>301</td>\n",
              "      <td>4</td>\n",
              "      <td>131</td>\n",
              "      <td>7.601080e+18</td>\n",
              "      <td>GALAXY</td>\n",
              "      <td>0.455040</td>\n",
              "      <td>6751</td>\n",
              "      <td>56368</td>\n",
              "      <td>470</td>\n",
              "    </tr>\n",
              "    <tr>\n",
              "      <th>99999</th>\n",
              "      <td>1.237661e+18</td>\n",
              "      <td>196.896053</td>\n",
              "      <td>49.464643</td>\n",
              "      <td>22.62171</td>\n",
              "      <td>21.79745</td>\n",
              "      <td>20.60115</td>\n",
              "      <td>20.00959</td>\n",
              "      <td>19.28075</td>\n",
              "      <td>3650</td>\n",
              "      <td>301</td>\n",
              "      <td>4</td>\n",
              "      <td>60</td>\n",
              "      <td>8.343152e+18</td>\n",
              "      <td>GALAXY</td>\n",
              "      <td>0.542944</td>\n",
              "      <td>7410</td>\n",
              "      <td>57104</td>\n",
              "      <td>851</td>\n",
              "    </tr>\n",
              "  </tbody>\n",
              "</table>\n",
              "<p>100000 rows × 18 columns</p>\n",
              "</div>\n",
              "    <div class=\"colab-df-buttons\">\n",
              "\n",
              "  <div class=\"colab-df-container\">\n",
              "    <button class=\"colab-df-convert\" onclick=\"convertToInteractive('df-d83a3fae-a5f7-475f-974c-3463c1ab95db')\"\n",
              "            title=\"Convert this dataframe to an interactive table.\"\n",
              "            style=\"display:none;\">\n",
              "\n",
              "  <svg xmlns=\"http://www.w3.org/2000/svg\" height=\"24px\" viewBox=\"0 -960 960 960\">\n",
              "    <path d=\"M120-120v-720h720v720H120Zm60-500h600v-160H180v160Zm220 220h160v-160H400v160Zm0 220h160v-160H400v160ZM180-400h160v-160H180v160Zm440 0h160v-160H620v160ZM180-180h160v-160H180v160Zm440 0h160v-160H620v160Z\"/>\n",
              "  </svg>\n",
              "    </button>\n",
              "\n",
              "  <style>\n",
              "    .colab-df-container {\n",
              "      display:flex;\n",
              "      gap: 12px;\n",
              "    }\n",
              "\n",
              "    .colab-df-convert {\n",
              "      background-color: #E8F0FE;\n",
              "      border: none;\n",
              "      border-radius: 50%;\n",
              "      cursor: pointer;\n",
              "      display: none;\n",
              "      fill: #1967D2;\n",
              "      height: 32px;\n",
              "      padding: 0 0 0 0;\n",
              "      width: 32px;\n",
              "    }\n",
              "\n",
              "    .colab-df-convert:hover {\n",
              "      background-color: #E2EBFA;\n",
              "      box-shadow: 0px 1px 2px rgba(60, 64, 67, 0.3), 0px 1px 3px 1px rgba(60, 64, 67, 0.15);\n",
              "      fill: #174EA6;\n",
              "    }\n",
              "\n",
              "    .colab-df-buttons div {\n",
              "      margin-bottom: 4px;\n",
              "    }\n",
              "\n",
              "    [theme=dark] .colab-df-convert {\n",
              "      background-color: #3B4455;\n",
              "      fill: #D2E3FC;\n",
              "    }\n",
              "\n",
              "    [theme=dark] .colab-df-convert:hover {\n",
              "      background-color: #434B5C;\n",
              "      box-shadow: 0px 1px 3px 1px rgba(0, 0, 0, 0.15);\n",
              "      filter: drop-shadow(0px 1px 2px rgba(0, 0, 0, 0.3));\n",
              "      fill: #FFFFFF;\n",
              "    }\n",
              "  </style>\n",
              "\n",
              "    <script>\n",
              "      const buttonEl =\n",
              "        document.querySelector('#df-d83a3fae-a5f7-475f-974c-3463c1ab95db button.colab-df-convert');\n",
              "      buttonEl.style.display =\n",
              "        google.colab.kernel.accessAllowed ? 'block' : 'none';\n",
              "\n",
              "      async function convertToInteractive(key) {\n",
              "        const element = document.querySelector('#df-d83a3fae-a5f7-475f-974c-3463c1ab95db');\n",
              "        const dataTable =\n",
              "          await google.colab.kernel.invokeFunction('convertToInteractive',\n",
              "                                                    [key], {});\n",
              "        if (!dataTable) return;\n",
              "\n",
              "        const docLinkHtml = 'Like what you see? Visit the ' +\n",
              "          '<a target=\"_blank\" href=https://colab.research.google.com/notebooks/data_table.ipynb>data table notebook</a>'\n",
              "          + ' to learn more about interactive tables.';\n",
              "        element.innerHTML = '';\n",
              "        dataTable['output_type'] = 'display_data';\n",
              "        await google.colab.output.renderOutput(dataTable, element);\n",
              "        const docLink = document.createElement('div');\n",
              "        docLink.innerHTML = docLinkHtml;\n",
              "        element.appendChild(docLink);\n",
              "      }\n",
              "    </script>\n",
              "  </div>\n",
              "\n",
              "\n",
              "<div id=\"df-bffd746b-a6a2-4ab7-9000-3e39aaeda448\">\n",
              "  <button class=\"colab-df-quickchart\" onclick=\"quickchart('df-bffd746b-a6a2-4ab7-9000-3e39aaeda448')\"\n",
              "            title=\"Suggest charts\"\n",
              "            style=\"display:none;\">\n",
              "\n",
              "<svg xmlns=\"http://www.w3.org/2000/svg\" height=\"24px\"viewBox=\"0 0 24 24\"\n",
              "     width=\"24px\">\n",
              "    <g>\n",
              "        <path d=\"M19 3H5c-1.1 0-2 .9-2 2v14c0 1.1.9 2 2 2h14c1.1 0 2-.9 2-2V5c0-1.1-.9-2-2-2zM9 17H7v-7h2v7zm4 0h-2V7h2v10zm4 0h-2v-4h2v4z\"/>\n",
              "    </g>\n",
              "</svg>\n",
              "  </button>\n",
              "\n",
              "<style>\n",
              "  .colab-df-quickchart {\n",
              "      --bg-color: #E8F0FE;\n",
              "      --fill-color: #1967D2;\n",
              "      --hover-bg-color: #E2EBFA;\n",
              "      --hover-fill-color: #174EA6;\n",
              "      --disabled-fill-color: #AAA;\n",
              "      --disabled-bg-color: #DDD;\n",
              "  }\n",
              "\n",
              "  [theme=dark] .colab-df-quickchart {\n",
              "      --bg-color: #3B4455;\n",
              "      --fill-color: #D2E3FC;\n",
              "      --hover-bg-color: #434B5C;\n",
              "      --hover-fill-color: #FFFFFF;\n",
              "      --disabled-bg-color: #3B4455;\n",
              "      --disabled-fill-color: #666;\n",
              "  }\n",
              "\n",
              "  .colab-df-quickchart {\n",
              "    background-color: var(--bg-color);\n",
              "    border: none;\n",
              "    border-radius: 50%;\n",
              "    cursor: pointer;\n",
              "    display: none;\n",
              "    fill: var(--fill-color);\n",
              "    height: 32px;\n",
              "    padding: 0;\n",
              "    width: 32px;\n",
              "  }\n",
              "\n",
              "  .colab-df-quickchart:hover {\n",
              "    background-color: var(--hover-bg-color);\n",
              "    box-shadow: 0 1px 2px rgba(60, 64, 67, 0.3), 0 1px 3px 1px rgba(60, 64, 67, 0.15);\n",
              "    fill: var(--button-hover-fill-color);\n",
              "  }\n",
              "\n",
              "  .colab-df-quickchart-complete:disabled,\n",
              "  .colab-df-quickchart-complete:disabled:hover {\n",
              "    background-color: var(--disabled-bg-color);\n",
              "    fill: var(--disabled-fill-color);\n",
              "    box-shadow: none;\n",
              "  }\n",
              "\n",
              "  .colab-df-spinner {\n",
              "    border: 2px solid var(--fill-color);\n",
              "    border-color: transparent;\n",
              "    border-bottom-color: var(--fill-color);\n",
              "    animation:\n",
              "      spin 1s steps(1) infinite;\n",
              "  }\n",
              "\n",
              "  @keyframes spin {\n",
              "    0% {\n",
              "      border-color: transparent;\n",
              "      border-bottom-color: var(--fill-color);\n",
              "      border-left-color: var(--fill-color);\n",
              "    }\n",
              "    20% {\n",
              "      border-color: transparent;\n",
              "      border-left-color: var(--fill-color);\n",
              "      border-top-color: var(--fill-color);\n",
              "    }\n",
              "    30% {\n",
              "      border-color: transparent;\n",
              "      border-left-color: var(--fill-color);\n",
              "      border-top-color: var(--fill-color);\n",
              "      border-right-color: var(--fill-color);\n",
              "    }\n",
              "    40% {\n",
              "      border-color: transparent;\n",
              "      border-right-color: var(--fill-color);\n",
              "      border-top-color: var(--fill-color);\n",
              "    }\n",
              "    60% {\n",
              "      border-color: transparent;\n",
              "      border-right-color: var(--fill-color);\n",
              "    }\n",
              "    80% {\n",
              "      border-color: transparent;\n",
              "      border-right-color: var(--fill-color);\n",
              "      border-bottom-color: var(--fill-color);\n",
              "    }\n",
              "    90% {\n",
              "      border-color: transparent;\n",
              "      border-bottom-color: var(--fill-color);\n",
              "    }\n",
              "  }\n",
              "</style>\n",
              "\n",
              "  <script>\n",
              "    async function quickchart(key) {\n",
              "      const quickchartButtonEl =\n",
              "        document.querySelector('#' + key + ' button');\n",
              "      quickchartButtonEl.disabled = true;  // To prevent multiple clicks.\n",
              "      quickchartButtonEl.classList.add('colab-df-spinner');\n",
              "      try {\n",
              "        const charts = await google.colab.kernel.invokeFunction(\n",
              "            'suggestCharts', [key], {});\n",
              "      } catch (error) {\n",
              "        console.error('Error during call to suggestCharts:', error);\n",
              "      }\n",
              "      quickchartButtonEl.classList.remove('colab-df-spinner');\n",
              "      quickchartButtonEl.classList.add('colab-df-quickchart-complete');\n",
              "    }\n",
              "    (() => {\n",
              "      let quickchartButtonEl =\n",
              "        document.querySelector('#df-bffd746b-a6a2-4ab7-9000-3e39aaeda448 button');\n",
              "      quickchartButtonEl.style.display =\n",
              "        google.colab.kernel.accessAllowed ? 'block' : 'none';\n",
              "    })();\n",
              "  </script>\n",
              "</div>\n",
              "    </div>\n",
              "  </div>\n"
            ]
          },
          "metadata": {},
          "execution_count": 2
        }
      ],
      "source": [
        "df_stellar = pd.read_csv('/content/star_classification.csv')\n",
        "df_stellar"
      ]
    },
    {
      "cell_type": "markdown",
      "metadata": {
        "id": "K9sK63aJ_TYD"
      },
      "source": [
        "Now we will build each of the 6 models. Each model consists of a training stage, validation stage, and testing stage. Depending on if cross validation was used or if a separate validation set is even needed, there may not be validation sets for each model. At the end, each model is saved so that it can be used for predictions later on"
      ]
    },
    {
      "cell_type": "markdown",
      "metadata": {
        "id": "gqqSnxwUKfC8"
      },
      "source": [
        "## kNN"
      ]
    },
    {
      "cell_type": "code",
      "execution_count": null,
      "metadata": {
        "id": "WGSBgOFVVFW_"
      },
      "outputs": [],
      "source": [
        "X = df_stellar[['alpha', 'delta', 'u', 'g', 'r', 'i', 'z', 'redshift']]\n",
        "y = df_stellar['class']\n",
        "\n",
        "X_train, X_test, y_train, y_test = train_test_split(X, y, test_size=0.2, random_state=1, stratify=y)"
      ]
    },
    {
      "cell_type": "code",
      "execution_count": null,
      "metadata": {
        "colab": {
          "base_uri": "https://localhost:8080/",
          "height": 218
        },
        "id": "B6sliAMtLTrF",
        "outputId": "851f0bb7-d7d7-43e4-cb05-e9ea6b28ca71"
      },
      "outputs": [
        {
          "output_type": "execute_result",
          "data": {
            "text/plain": [
              "GridSearchCV(cv=10,\n",
              "             estimator=Pipeline(steps=[('columntransformer',\n",
              "                                        ColumnTransformer(transformers=[('standardscaler',\n",
              "                                                                         StandardScaler(),\n",
              "                                                                         ['alpha',\n",
              "                                                                          'delta',\n",
              "                                                                          'u',\n",
              "                                                                          'g',\n",
              "                                                                          'r',\n",
              "                                                                          'i',\n",
              "                                                                          'z',\n",
              "                                                                          'redshift'])])),\n",
              "                                       ('kneighborsclassifier',\n",
              "                                        KNeighborsClassifier(n_neighbors=3))]),\n",
              "             param_grid={'kneighborsclassifier__n_neighbors': range(1, 25)},\n",
              "             scoring='f1_macro')"
            ],
            "text/html": [
              "<style>#sk-container-id-1 {color: black;background-color: white;}#sk-container-id-1 pre{padding: 0;}#sk-container-id-1 div.sk-toggleable {background-color: white;}#sk-container-id-1 label.sk-toggleable__label {cursor: pointer;display: block;width: 100%;margin-bottom: 0;padding: 0.3em;box-sizing: border-box;text-align: center;}#sk-container-id-1 label.sk-toggleable__label-arrow:before {content: \"▸\";float: left;margin-right: 0.25em;color: #696969;}#sk-container-id-1 label.sk-toggleable__label-arrow:hover:before {color: black;}#sk-container-id-1 div.sk-estimator:hover label.sk-toggleable__label-arrow:before {color: black;}#sk-container-id-1 div.sk-toggleable__content {max-height: 0;max-width: 0;overflow: hidden;text-align: left;background-color: #f0f8ff;}#sk-container-id-1 div.sk-toggleable__content pre {margin: 0.2em;color: black;border-radius: 0.25em;background-color: #f0f8ff;}#sk-container-id-1 input.sk-toggleable__control:checked~div.sk-toggleable__content {max-height: 200px;max-width: 100%;overflow: auto;}#sk-container-id-1 input.sk-toggleable__control:checked~label.sk-toggleable__label-arrow:before {content: \"▾\";}#sk-container-id-1 div.sk-estimator input.sk-toggleable__control:checked~label.sk-toggleable__label {background-color: #d4ebff;}#sk-container-id-1 div.sk-label input.sk-toggleable__control:checked~label.sk-toggleable__label {background-color: #d4ebff;}#sk-container-id-1 input.sk-hidden--visually {border: 0;clip: rect(1px 1px 1px 1px);clip: rect(1px, 1px, 1px, 1px);height: 1px;margin: -1px;overflow: hidden;padding: 0;position: absolute;width: 1px;}#sk-container-id-1 div.sk-estimator {font-family: monospace;background-color: #f0f8ff;border: 1px dotted black;border-radius: 0.25em;box-sizing: border-box;margin-bottom: 0.5em;}#sk-container-id-1 div.sk-estimator:hover {background-color: #d4ebff;}#sk-container-id-1 div.sk-parallel-item::after {content: \"\";width: 100%;border-bottom: 1px solid gray;flex-grow: 1;}#sk-container-id-1 div.sk-label:hover label.sk-toggleable__label {background-color: #d4ebff;}#sk-container-id-1 div.sk-serial::before {content: \"\";position: absolute;border-left: 1px solid gray;box-sizing: border-box;top: 0;bottom: 0;left: 50%;z-index: 0;}#sk-container-id-1 div.sk-serial {display: flex;flex-direction: column;align-items: center;background-color: white;padding-right: 0.2em;padding-left: 0.2em;position: relative;}#sk-container-id-1 div.sk-item {position: relative;z-index: 1;}#sk-container-id-1 div.sk-parallel {display: flex;align-items: stretch;justify-content: center;background-color: white;position: relative;}#sk-container-id-1 div.sk-item::before, #sk-container-id-1 div.sk-parallel-item::before {content: \"\";position: absolute;border-left: 1px solid gray;box-sizing: border-box;top: 0;bottom: 0;left: 50%;z-index: -1;}#sk-container-id-1 div.sk-parallel-item {display: flex;flex-direction: column;z-index: 1;position: relative;background-color: white;}#sk-container-id-1 div.sk-parallel-item:first-child::after {align-self: flex-end;width: 50%;}#sk-container-id-1 div.sk-parallel-item:last-child::after {align-self: flex-start;width: 50%;}#sk-container-id-1 div.sk-parallel-item:only-child::after {width: 0;}#sk-container-id-1 div.sk-dashed-wrapped {border: 1px dashed gray;margin: 0 0.4em 0.5em 0.4em;box-sizing: border-box;padding-bottom: 0.4em;background-color: white;}#sk-container-id-1 div.sk-label label {font-family: monospace;font-weight: bold;display: inline-block;line-height: 1.2em;}#sk-container-id-1 div.sk-label-container {text-align: center;}#sk-container-id-1 div.sk-container {/* jupyter's `normalize.less` sets `[hidden] { display: none; }` but bootstrap.min.css set `[hidden] { display: none !important; }` so we also need the `!important` here to be able to override the default hidden behavior on the sphinx rendered scikit-learn.org. See: https://github.com/scikit-learn/scikit-learn/issues/21755 */display: inline-block !important;position: relative;}#sk-container-id-1 div.sk-text-repr-fallback {display: none;}</style><div id=\"sk-container-id-1\" class=\"sk-top-container\"><div class=\"sk-text-repr-fallback\"><pre>GridSearchCV(cv=10,\n",
              "             estimator=Pipeline(steps=[(&#x27;columntransformer&#x27;,\n",
              "                                        ColumnTransformer(transformers=[(&#x27;standardscaler&#x27;,\n",
              "                                                                         StandardScaler(),\n",
              "                                                                         [&#x27;alpha&#x27;,\n",
              "                                                                          &#x27;delta&#x27;,\n",
              "                                                                          &#x27;u&#x27;,\n",
              "                                                                          &#x27;g&#x27;,\n",
              "                                                                          &#x27;r&#x27;,\n",
              "                                                                          &#x27;i&#x27;,\n",
              "                                                                          &#x27;z&#x27;,\n",
              "                                                                          &#x27;redshift&#x27;])])),\n",
              "                                       (&#x27;kneighborsclassifier&#x27;,\n",
              "                                        KNeighborsClassifier(n_neighbors=3))]),\n",
              "             param_grid={&#x27;kneighborsclassifier__n_neighbors&#x27;: range(1, 25)},\n",
              "             scoring=&#x27;f1_macro&#x27;)</pre><b>In a Jupyter environment, please rerun this cell to show the HTML representation or trust the notebook. <br />On GitHub, the HTML representation is unable to render, please try loading this page with nbviewer.org.</b></div><div class=\"sk-container\" hidden><div class=\"sk-item sk-dashed-wrapped\"><div class=\"sk-label-container\"><div class=\"sk-label sk-toggleable\"><input class=\"sk-toggleable__control sk-hidden--visually\" id=\"sk-estimator-id-1\" type=\"checkbox\" ><label for=\"sk-estimator-id-1\" class=\"sk-toggleable__label sk-toggleable__label-arrow\">GridSearchCV</label><div class=\"sk-toggleable__content\"><pre>GridSearchCV(cv=10,\n",
              "             estimator=Pipeline(steps=[(&#x27;columntransformer&#x27;,\n",
              "                                        ColumnTransformer(transformers=[(&#x27;standardscaler&#x27;,\n",
              "                                                                         StandardScaler(),\n",
              "                                                                         [&#x27;alpha&#x27;,\n",
              "                                                                          &#x27;delta&#x27;,\n",
              "                                                                          &#x27;u&#x27;,\n",
              "                                                                          &#x27;g&#x27;,\n",
              "                                                                          &#x27;r&#x27;,\n",
              "                                                                          &#x27;i&#x27;,\n",
              "                                                                          &#x27;z&#x27;,\n",
              "                                                                          &#x27;redshift&#x27;])])),\n",
              "                                       (&#x27;kneighborsclassifier&#x27;,\n",
              "                                        KNeighborsClassifier(n_neighbors=3))]),\n",
              "             param_grid={&#x27;kneighborsclassifier__n_neighbors&#x27;: range(1, 25)},\n",
              "             scoring=&#x27;f1_macro&#x27;)</pre></div></div></div><div class=\"sk-parallel\"><div class=\"sk-parallel-item\"><div class=\"sk-item\"><div class=\"sk-label-container\"><div class=\"sk-label sk-toggleable\"><input class=\"sk-toggleable__control sk-hidden--visually\" id=\"sk-estimator-id-2\" type=\"checkbox\" ><label for=\"sk-estimator-id-2\" class=\"sk-toggleable__label sk-toggleable__label-arrow\">estimator: Pipeline</label><div class=\"sk-toggleable__content\"><pre>Pipeline(steps=[(&#x27;columntransformer&#x27;,\n",
              "                 ColumnTransformer(transformers=[(&#x27;standardscaler&#x27;,\n",
              "                                                  StandardScaler(),\n",
              "                                                  [&#x27;alpha&#x27;, &#x27;delta&#x27;, &#x27;u&#x27;, &#x27;g&#x27;,\n",
              "                                                   &#x27;r&#x27;, &#x27;i&#x27;, &#x27;z&#x27;,\n",
              "                                                   &#x27;redshift&#x27;])])),\n",
              "                (&#x27;kneighborsclassifier&#x27;, KNeighborsClassifier(n_neighbors=3))])</pre></div></div></div><div class=\"sk-serial\"><div class=\"sk-item\"><div class=\"sk-serial\"><div class=\"sk-item sk-dashed-wrapped\"><div class=\"sk-label-container\"><div class=\"sk-label sk-toggleable\"><input class=\"sk-toggleable__control sk-hidden--visually\" id=\"sk-estimator-id-3\" type=\"checkbox\" ><label for=\"sk-estimator-id-3\" class=\"sk-toggleable__label sk-toggleable__label-arrow\">columntransformer: ColumnTransformer</label><div class=\"sk-toggleable__content\"><pre>ColumnTransformer(transformers=[(&#x27;standardscaler&#x27;, StandardScaler(),\n",
              "                                 [&#x27;alpha&#x27;, &#x27;delta&#x27;, &#x27;u&#x27;, &#x27;g&#x27;, &#x27;r&#x27;, &#x27;i&#x27;, &#x27;z&#x27;,\n",
              "                                  &#x27;redshift&#x27;])])</pre></div></div></div><div class=\"sk-parallel\"><div class=\"sk-parallel-item\"><div class=\"sk-item\"><div class=\"sk-label-container\"><div class=\"sk-label sk-toggleable\"><input class=\"sk-toggleable__control sk-hidden--visually\" id=\"sk-estimator-id-4\" type=\"checkbox\" ><label for=\"sk-estimator-id-4\" class=\"sk-toggleable__label sk-toggleable__label-arrow\">standardscaler</label><div class=\"sk-toggleable__content\"><pre>[&#x27;alpha&#x27;, &#x27;delta&#x27;, &#x27;u&#x27;, &#x27;g&#x27;, &#x27;r&#x27;, &#x27;i&#x27;, &#x27;z&#x27;, &#x27;redshift&#x27;]</pre></div></div></div><div class=\"sk-serial\"><div class=\"sk-item\"><div class=\"sk-estimator sk-toggleable\"><input class=\"sk-toggleable__control sk-hidden--visually\" id=\"sk-estimator-id-5\" type=\"checkbox\" ><label for=\"sk-estimator-id-5\" class=\"sk-toggleable__label sk-toggleable__label-arrow\">StandardScaler</label><div class=\"sk-toggleable__content\"><pre>StandardScaler()</pre></div></div></div></div></div></div></div></div><div class=\"sk-item\"><div class=\"sk-estimator sk-toggleable\"><input class=\"sk-toggleable__control sk-hidden--visually\" id=\"sk-estimator-id-6\" type=\"checkbox\" ><label for=\"sk-estimator-id-6\" class=\"sk-toggleable__label sk-toggleable__label-arrow\">KNeighborsClassifier</label><div class=\"sk-toggleable__content\"><pre>KNeighborsClassifier(n_neighbors=3)</pre></div></div></div></div></div></div></div></div></div></div></div></div>"
            ]
          },
          "metadata": {},
          "execution_count": 4
        }
      ],
      "source": [
        "ct = make_column_transformer(\n",
        "      (StandardScaler(), ['alpha', 'delta', 'u', 'g', 'r', 'i', 'z', 'redshift']),\n",
        "      remainder=\"drop\"  # all other columns in X will be dropped.\n",
        "  )\n",
        "\n",
        "kNNPipeline = make_pipeline(\n",
        "    ct,\n",
        "    KNeighborsClassifier(n_neighbors=3)\n",
        ")\n",
        "\n",
        "grid_search = GridSearchCV(kNNPipeline,\n",
        "                           param_grid={\n",
        "                               \"kneighborsclassifier__n_neighbors\": range(1, 25)\n",
        "                           },\n",
        "                           scoring=\"f1_macro\",\n",
        "                           cv=10)\n",
        "\n",
        "grid_search.fit(X_train, y_train)\n"
      ]
    },
    {
      "cell_type": "code",
      "execution_count": null,
      "metadata": {
        "colab": {
          "base_uri": "https://localhost:8080/",
          "height": 557
        },
        "id": "xQtOYl6eNXWc",
        "outputId": "44a25b0c-55db-42f1-e748-7d9721cdad7e"
      },
      "outputs": [
        {
          "output_type": "execute_result",
          "data": {
            "text/plain": [
              "    mean_fit_time  std_fit_time  mean_score_time  std_score_time  \\\n",
              "2        0.285353      0.077853         0.850813        0.153756   \n",
              "4        0.308711      0.087931         0.950163        0.168249   \n",
              "6        0.260095      0.052363         0.901578        0.131462   \n",
              "8        0.292549      0.079086         1.109583        0.485925   \n",
              "10       0.294425      0.079299         1.074395        0.185889   \n",
              "5        0.274192      0.073779         0.931728        0.218090   \n",
              "7        0.295318      0.083727         1.012596        0.216442   \n",
              "3        0.310429      0.087622         0.903333        0.178533   \n",
              "12       0.276110      0.069708         1.054197        0.238963   \n",
              "9        0.294373      0.083967         1.041036        0.182396   \n",
              "\n",
              "   param_kneighborsclassifier__n_neighbors  \\\n",
              "2                                        3   \n",
              "4                                        5   \n",
              "6                                        7   \n",
              "8                                        9   \n",
              "10                                      11   \n",
              "5                                        6   \n",
              "7                                        8   \n",
              "3                                        4   \n",
              "12                                      13   \n",
              "9                                       10   \n",
              "\n",
              "                                       params  split0_test_score  \\\n",
              "2    {'kneighborsclassifier__n_neighbors': 3}           0.937655   \n",
              "4    {'kneighborsclassifier__n_neighbors': 5}           0.935547   \n",
              "6    {'kneighborsclassifier__n_neighbors': 7}           0.933357   \n",
              "8    {'kneighborsclassifier__n_neighbors': 9}           0.931391   \n",
              "10  {'kneighborsclassifier__n_neighbors': 11}           0.930180   \n",
              "5    {'kneighborsclassifier__n_neighbors': 6}           0.928459   \n",
              "7    {'kneighborsclassifier__n_neighbors': 8}           0.927016   \n",
              "3    {'kneighborsclassifier__n_neighbors': 4}           0.925976   \n",
              "12  {'kneighborsclassifier__n_neighbors': 13}           0.928634   \n",
              "9   {'kneighborsclassifier__n_neighbors': 10}           0.927184   \n",
              "\n",
              "    split1_test_score  split2_test_score  split3_test_score  \\\n",
              "2            0.935205           0.935409           0.934418   \n",
              "4            0.935501           0.934341           0.935294   \n",
              "6            0.933288           0.931347           0.930944   \n",
              "8            0.931197           0.929663           0.928398   \n",
              "10           0.929162           0.926201           0.926606   \n",
              "5            0.931091           0.926052           0.928522   \n",
              "7            0.928059           0.927617           0.926959   \n",
              "3            0.929221           0.927454           0.928023   \n",
              "12           0.928248           0.925043           0.924723   \n",
              "9            0.926635           0.923217           0.924063   \n",
              "\n",
              "    split4_test_score  split5_test_score  split6_test_score  \\\n",
              "2            0.935038           0.930470           0.933817   \n",
              "4            0.931230           0.928228           0.932229   \n",
              "6            0.932132           0.928589           0.931470   \n",
              "8            0.929468           0.926621           0.930464   \n",
              "10           0.927974           0.923903           0.930086   \n",
              "5            0.926516           0.924683           0.927296   \n",
              "7            0.928197           0.924786           0.928542   \n",
              "3            0.927677           0.921647           0.931163   \n",
              "12           0.927390           0.920300           0.929020   \n",
              "9            0.925670           0.922952           0.929038   \n",
              "\n",
              "    split7_test_score  split8_test_score  split9_test_score  mean_test_score  \\\n",
              "2            0.935897           0.942585           0.928085         0.934858   \n",
              "4            0.936399           0.940090           0.928081         0.933694   \n",
              "6            0.935458           0.939540           0.926796         0.932292   \n",
              "8            0.934329           0.936000           0.926759         0.930429   \n",
              "10           0.931068           0.935860           0.925315         0.928635   \n",
              "5            0.931337           0.936362           0.922181         0.928250   \n",
              "7            0.930782           0.932746           0.923559         0.927826   \n",
              "3            0.928588           0.936241           0.921448         0.927744   \n",
              "12           0.928251           0.933882           0.924645         0.927013   \n",
              "9            0.928590           0.932394           0.924393         0.926414   \n",
              "\n",
              "    std_test_score  rank_test_score  \n",
              "2         0.003681                1  \n",
              "4         0.003571                2  \n",
              "6         0.003347                3  \n",
              "8         0.002853                4  \n",
              "10        0.003268                5  \n",
              "5         0.003766                6  \n",
              "7         0.002501                7  \n",
              "3         0.004085                8  \n",
              "12        0.003418                9  \n",
              "9         0.002835               10  "
            ],
            "text/html": [
              "\n",
              "  <div id=\"df-8aed2822-4d3f-477a-bc0f-c1e4da632b8c\" class=\"colab-df-container\">\n",
              "    <div>\n",
              "<style scoped>\n",
              "    .dataframe tbody tr th:only-of-type {\n",
              "        vertical-align: middle;\n",
              "    }\n",
              "\n",
              "    .dataframe tbody tr th {\n",
              "        vertical-align: top;\n",
              "    }\n",
              "\n",
              "    .dataframe thead th {\n",
              "        text-align: right;\n",
              "    }\n",
              "</style>\n",
              "<table border=\"1\" class=\"dataframe\">\n",
              "  <thead>\n",
              "    <tr style=\"text-align: right;\">\n",
              "      <th></th>\n",
              "      <th>mean_fit_time</th>\n",
              "      <th>std_fit_time</th>\n",
              "      <th>mean_score_time</th>\n",
              "      <th>std_score_time</th>\n",
              "      <th>param_kneighborsclassifier__n_neighbors</th>\n",
              "      <th>params</th>\n",
              "      <th>split0_test_score</th>\n",
              "      <th>split1_test_score</th>\n",
              "      <th>split2_test_score</th>\n",
              "      <th>split3_test_score</th>\n",
              "      <th>split4_test_score</th>\n",
              "      <th>split5_test_score</th>\n",
              "      <th>split6_test_score</th>\n",
              "      <th>split7_test_score</th>\n",
              "      <th>split8_test_score</th>\n",
              "      <th>split9_test_score</th>\n",
              "      <th>mean_test_score</th>\n",
              "      <th>std_test_score</th>\n",
              "      <th>rank_test_score</th>\n",
              "    </tr>\n",
              "  </thead>\n",
              "  <tbody>\n",
              "    <tr>\n",
              "      <th>2</th>\n",
              "      <td>0.285353</td>\n",
              "      <td>0.077853</td>\n",
              "      <td>0.850813</td>\n",
              "      <td>0.153756</td>\n",
              "      <td>3</td>\n",
              "      <td>{'kneighborsclassifier__n_neighbors': 3}</td>\n",
              "      <td>0.937655</td>\n",
              "      <td>0.935205</td>\n",
              "      <td>0.935409</td>\n",
              "      <td>0.934418</td>\n",
              "      <td>0.935038</td>\n",
              "      <td>0.930470</td>\n",
              "      <td>0.933817</td>\n",
              "      <td>0.935897</td>\n",
              "      <td>0.942585</td>\n",
              "      <td>0.928085</td>\n",
              "      <td>0.934858</td>\n",
              "      <td>0.003681</td>\n",
              "      <td>1</td>\n",
              "    </tr>\n",
              "    <tr>\n",
              "      <th>4</th>\n",
              "      <td>0.308711</td>\n",
              "      <td>0.087931</td>\n",
              "      <td>0.950163</td>\n",
              "      <td>0.168249</td>\n",
              "      <td>5</td>\n",
              "      <td>{'kneighborsclassifier__n_neighbors': 5}</td>\n",
              "      <td>0.935547</td>\n",
              "      <td>0.935501</td>\n",
              "      <td>0.934341</td>\n",
              "      <td>0.935294</td>\n",
              "      <td>0.931230</td>\n",
              "      <td>0.928228</td>\n",
              "      <td>0.932229</td>\n",
              "      <td>0.936399</td>\n",
              "      <td>0.940090</td>\n",
              "      <td>0.928081</td>\n",
              "      <td>0.933694</td>\n",
              "      <td>0.003571</td>\n",
              "      <td>2</td>\n",
              "    </tr>\n",
              "    <tr>\n",
              "      <th>6</th>\n",
              "      <td>0.260095</td>\n",
              "      <td>0.052363</td>\n",
              "      <td>0.901578</td>\n",
              "      <td>0.131462</td>\n",
              "      <td>7</td>\n",
              "      <td>{'kneighborsclassifier__n_neighbors': 7}</td>\n",
              "      <td>0.933357</td>\n",
              "      <td>0.933288</td>\n",
              "      <td>0.931347</td>\n",
              "      <td>0.930944</td>\n",
              "      <td>0.932132</td>\n",
              "      <td>0.928589</td>\n",
              "      <td>0.931470</td>\n",
              "      <td>0.935458</td>\n",
              "      <td>0.939540</td>\n",
              "      <td>0.926796</td>\n",
              "      <td>0.932292</td>\n",
              "      <td>0.003347</td>\n",
              "      <td>3</td>\n",
              "    </tr>\n",
              "    <tr>\n",
              "      <th>8</th>\n",
              "      <td>0.292549</td>\n",
              "      <td>0.079086</td>\n",
              "      <td>1.109583</td>\n",
              "      <td>0.485925</td>\n",
              "      <td>9</td>\n",
              "      <td>{'kneighborsclassifier__n_neighbors': 9}</td>\n",
              "      <td>0.931391</td>\n",
              "      <td>0.931197</td>\n",
              "      <td>0.929663</td>\n",
              "      <td>0.928398</td>\n",
              "      <td>0.929468</td>\n",
              "      <td>0.926621</td>\n",
              "      <td>0.930464</td>\n",
              "      <td>0.934329</td>\n",
              "      <td>0.936000</td>\n",
              "      <td>0.926759</td>\n",
              "      <td>0.930429</td>\n",
              "      <td>0.002853</td>\n",
              "      <td>4</td>\n",
              "    </tr>\n",
              "    <tr>\n",
              "      <th>10</th>\n",
              "      <td>0.294425</td>\n",
              "      <td>0.079299</td>\n",
              "      <td>1.074395</td>\n",
              "      <td>0.185889</td>\n",
              "      <td>11</td>\n",
              "      <td>{'kneighborsclassifier__n_neighbors': 11}</td>\n",
              "      <td>0.930180</td>\n",
              "      <td>0.929162</td>\n",
              "      <td>0.926201</td>\n",
              "      <td>0.926606</td>\n",
              "      <td>0.927974</td>\n",
              "      <td>0.923903</td>\n",
              "      <td>0.930086</td>\n",
              "      <td>0.931068</td>\n",
              "      <td>0.935860</td>\n",
              "      <td>0.925315</td>\n",
              "      <td>0.928635</td>\n",
              "      <td>0.003268</td>\n",
              "      <td>5</td>\n",
              "    </tr>\n",
              "    <tr>\n",
              "      <th>5</th>\n",
              "      <td>0.274192</td>\n",
              "      <td>0.073779</td>\n",
              "      <td>0.931728</td>\n",
              "      <td>0.218090</td>\n",
              "      <td>6</td>\n",
              "      <td>{'kneighborsclassifier__n_neighbors': 6}</td>\n",
              "      <td>0.928459</td>\n",
              "      <td>0.931091</td>\n",
              "      <td>0.926052</td>\n",
              "      <td>0.928522</td>\n",
              "      <td>0.926516</td>\n",
              "      <td>0.924683</td>\n",
              "      <td>0.927296</td>\n",
              "      <td>0.931337</td>\n",
              "      <td>0.936362</td>\n",
              "      <td>0.922181</td>\n",
              "      <td>0.928250</td>\n",
              "      <td>0.003766</td>\n",
              "      <td>6</td>\n",
              "    </tr>\n",
              "    <tr>\n",
              "      <th>7</th>\n",
              "      <td>0.295318</td>\n",
              "      <td>0.083727</td>\n",
              "      <td>1.012596</td>\n",
              "      <td>0.216442</td>\n",
              "      <td>8</td>\n",
              "      <td>{'kneighborsclassifier__n_neighbors': 8}</td>\n",
              "      <td>0.927016</td>\n",
              "      <td>0.928059</td>\n",
              "      <td>0.927617</td>\n",
              "      <td>0.926959</td>\n",
              "      <td>0.928197</td>\n",
              "      <td>0.924786</td>\n",
              "      <td>0.928542</td>\n",
              "      <td>0.930782</td>\n",
              "      <td>0.932746</td>\n",
              "      <td>0.923559</td>\n",
              "      <td>0.927826</td>\n",
              "      <td>0.002501</td>\n",
              "      <td>7</td>\n",
              "    </tr>\n",
              "    <tr>\n",
              "      <th>3</th>\n",
              "      <td>0.310429</td>\n",
              "      <td>0.087622</td>\n",
              "      <td>0.903333</td>\n",
              "      <td>0.178533</td>\n",
              "      <td>4</td>\n",
              "      <td>{'kneighborsclassifier__n_neighbors': 4}</td>\n",
              "      <td>0.925976</td>\n",
              "      <td>0.929221</td>\n",
              "      <td>0.927454</td>\n",
              "      <td>0.928023</td>\n",
              "      <td>0.927677</td>\n",
              "      <td>0.921647</td>\n",
              "      <td>0.931163</td>\n",
              "      <td>0.928588</td>\n",
              "      <td>0.936241</td>\n",
              "      <td>0.921448</td>\n",
              "      <td>0.927744</td>\n",
              "      <td>0.004085</td>\n",
              "      <td>8</td>\n",
              "    </tr>\n",
              "    <tr>\n",
              "      <th>12</th>\n",
              "      <td>0.276110</td>\n",
              "      <td>0.069708</td>\n",
              "      <td>1.054197</td>\n",
              "      <td>0.238963</td>\n",
              "      <td>13</td>\n",
              "      <td>{'kneighborsclassifier__n_neighbors': 13}</td>\n",
              "      <td>0.928634</td>\n",
              "      <td>0.928248</td>\n",
              "      <td>0.925043</td>\n",
              "      <td>0.924723</td>\n",
              "      <td>0.927390</td>\n",
              "      <td>0.920300</td>\n",
              "      <td>0.929020</td>\n",
              "      <td>0.928251</td>\n",
              "      <td>0.933882</td>\n",
              "      <td>0.924645</td>\n",
              "      <td>0.927013</td>\n",
              "      <td>0.003418</td>\n",
              "      <td>9</td>\n",
              "    </tr>\n",
              "    <tr>\n",
              "      <th>9</th>\n",
              "      <td>0.294373</td>\n",
              "      <td>0.083967</td>\n",
              "      <td>1.041036</td>\n",
              "      <td>0.182396</td>\n",
              "      <td>10</td>\n",
              "      <td>{'kneighborsclassifier__n_neighbors': 10}</td>\n",
              "      <td>0.927184</td>\n",
              "      <td>0.926635</td>\n",
              "      <td>0.923217</td>\n",
              "      <td>0.924063</td>\n",
              "      <td>0.925670</td>\n",
              "      <td>0.922952</td>\n",
              "      <td>0.929038</td>\n",
              "      <td>0.928590</td>\n",
              "      <td>0.932394</td>\n",
              "      <td>0.924393</td>\n",
              "      <td>0.926414</td>\n",
              "      <td>0.002835</td>\n",
              "      <td>10</td>\n",
              "    </tr>\n",
              "  </tbody>\n",
              "</table>\n",
              "</div>\n",
              "    <div class=\"colab-df-buttons\">\n",
              "\n",
              "  <div class=\"colab-df-container\">\n",
              "    <button class=\"colab-df-convert\" onclick=\"convertToInteractive('df-8aed2822-4d3f-477a-bc0f-c1e4da632b8c')\"\n",
              "            title=\"Convert this dataframe to an interactive table.\"\n",
              "            style=\"display:none;\">\n",
              "\n",
              "  <svg xmlns=\"http://www.w3.org/2000/svg\" height=\"24px\" viewBox=\"0 -960 960 960\">\n",
              "    <path d=\"M120-120v-720h720v720H120Zm60-500h600v-160H180v160Zm220 220h160v-160H400v160Zm0 220h160v-160H400v160ZM180-400h160v-160H180v160Zm440 0h160v-160H620v160ZM180-180h160v-160H180v160Zm440 0h160v-160H620v160Z\"/>\n",
              "  </svg>\n",
              "    </button>\n",
              "\n",
              "  <style>\n",
              "    .colab-df-container {\n",
              "      display:flex;\n",
              "      gap: 12px;\n",
              "    }\n",
              "\n",
              "    .colab-df-convert {\n",
              "      background-color: #E8F0FE;\n",
              "      border: none;\n",
              "      border-radius: 50%;\n",
              "      cursor: pointer;\n",
              "      display: none;\n",
              "      fill: #1967D2;\n",
              "      height: 32px;\n",
              "      padding: 0 0 0 0;\n",
              "      width: 32px;\n",
              "    }\n",
              "\n",
              "    .colab-df-convert:hover {\n",
              "      background-color: #E2EBFA;\n",
              "      box-shadow: 0px 1px 2px rgba(60, 64, 67, 0.3), 0px 1px 3px 1px rgba(60, 64, 67, 0.15);\n",
              "      fill: #174EA6;\n",
              "    }\n",
              "\n",
              "    .colab-df-buttons div {\n",
              "      margin-bottom: 4px;\n",
              "    }\n",
              "\n",
              "    [theme=dark] .colab-df-convert {\n",
              "      background-color: #3B4455;\n",
              "      fill: #D2E3FC;\n",
              "    }\n",
              "\n",
              "    [theme=dark] .colab-df-convert:hover {\n",
              "      background-color: #434B5C;\n",
              "      box-shadow: 0px 1px 3px 1px rgba(0, 0, 0, 0.15);\n",
              "      filter: drop-shadow(0px 1px 2px rgba(0, 0, 0, 0.3));\n",
              "      fill: #FFFFFF;\n",
              "    }\n",
              "  </style>\n",
              "\n",
              "    <script>\n",
              "      const buttonEl =\n",
              "        document.querySelector('#df-8aed2822-4d3f-477a-bc0f-c1e4da632b8c button.colab-df-convert');\n",
              "      buttonEl.style.display =\n",
              "        google.colab.kernel.accessAllowed ? 'block' : 'none';\n",
              "\n",
              "      async function convertToInteractive(key) {\n",
              "        const element = document.querySelector('#df-8aed2822-4d3f-477a-bc0f-c1e4da632b8c');\n",
              "        const dataTable =\n",
              "          await google.colab.kernel.invokeFunction('convertToInteractive',\n",
              "                                                    [key], {});\n",
              "        if (!dataTable) return;\n",
              "\n",
              "        const docLinkHtml = 'Like what you see? Visit the ' +\n",
              "          '<a target=\"_blank\" href=https://colab.research.google.com/notebooks/data_table.ipynb>data table notebook</a>'\n",
              "          + ' to learn more about interactive tables.';\n",
              "        element.innerHTML = '';\n",
              "        dataTable['output_type'] = 'display_data';\n",
              "        await google.colab.output.renderOutput(dataTable, element);\n",
              "        const docLink = document.createElement('div');\n",
              "        docLink.innerHTML = docLinkHtml;\n",
              "        element.appendChild(docLink);\n",
              "      }\n",
              "    </script>\n",
              "  </div>\n",
              "\n",
              "\n",
              "<div id=\"df-958ed724-b49c-466f-a614-6e2139e04bf2\">\n",
              "  <button class=\"colab-df-quickchart\" onclick=\"quickchart('df-958ed724-b49c-466f-a614-6e2139e04bf2')\"\n",
              "            title=\"Suggest charts\"\n",
              "            style=\"display:none;\">\n",
              "\n",
              "<svg xmlns=\"http://www.w3.org/2000/svg\" height=\"24px\"viewBox=\"0 0 24 24\"\n",
              "     width=\"24px\">\n",
              "    <g>\n",
              "        <path d=\"M19 3H5c-1.1 0-2 .9-2 2v14c0 1.1.9 2 2 2h14c1.1 0 2-.9 2-2V5c0-1.1-.9-2-2-2zM9 17H7v-7h2v7zm4 0h-2V7h2v10zm4 0h-2v-4h2v4z\"/>\n",
              "    </g>\n",
              "</svg>\n",
              "  </button>\n",
              "\n",
              "<style>\n",
              "  .colab-df-quickchart {\n",
              "      --bg-color: #E8F0FE;\n",
              "      --fill-color: #1967D2;\n",
              "      --hover-bg-color: #E2EBFA;\n",
              "      --hover-fill-color: #174EA6;\n",
              "      --disabled-fill-color: #AAA;\n",
              "      --disabled-bg-color: #DDD;\n",
              "  }\n",
              "\n",
              "  [theme=dark] .colab-df-quickchart {\n",
              "      --bg-color: #3B4455;\n",
              "      --fill-color: #D2E3FC;\n",
              "      --hover-bg-color: #434B5C;\n",
              "      --hover-fill-color: #FFFFFF;\n",
              "      --disabled-bg-color: #3B4455;\n",
              "      --disabled-fill-color: #666;\n",
              "  }\n",
              "\n",
              "  .colab-df-quickchart {\n",
              "    background-color: var(--bg-color);\n",
              "    border: none;\n",
              "    border-radius: 50%;\n",
              "    cursor: pointer;\n",
              "    display: none;\n",
              "    fill: var(--fill-color);\n",
              "    height: 32px;\n",
              "    padding: 0;\n",
              "    width: 32px;\n",
              "  }\n",
              "\n",
              "  .colab-df-quickchart:hover {\n",
              "    background-color: var(--hover-bg-color);\n",
              "    box-shadow: 0 1px 2px rgba(60, 64, 67, 0.3), 0 1px 3px 1px rgba(60, 64, 67, 0.15);\n",
              "    fill: var(--button-hover-fill-color);\n",
              "  }\n",
              "\n",
              "  .colab-df-quickchart-complete:disabled,\n",
              "  .colab-df-quickchart-complete:disabled:hover {\n",
              "    background-color: var(--disabled-bg-color);\n",
              "    fill: var(--disabled-fill-color);\n",
              "    box-shadow: none;\n",
              "  }\n",
              "\n",
              "  .colab-df-spinner {\n",
              "    border: 2px solid var(--fill-color);\n",
              "    border-color: transparent;\n",
              "    border-bottom-color: var(--fill-color);\n",
              "    animation:\n",
              "      spin 1s steps(1) infinite;\n",
              "  }\n",
              "\n",
              "  @keyframes spin {\n",
              "    0% {\n",
              "      border-color: transparent;\n",
              "      border-bottom-color: var(--fill-color);\n",
              "      border-left-color: var(--fill-color);\n",
              "    }\n",
              "    20% {\n",
              "      border-color: transparent;\n",
              "      border-left-color: var(--fill-color);\n",
              "      border-top-color: var(--fill-color);\n",
              "    }\n",
              "    30% {\n",
              "      border-color: transparent;\n",
              "      border-left-color: var(--fill-color);\n",
              "      border-top-color: var(--fill-color);\n",
              "      border-right-color: var(--fill-color);\n",
              "    }\n",
              "    40% {\n",
              "      border-color: transparent;\n",
              "      border-right-color: var(--fill-color);\n",
              "      border-top-color: var(--fill-color);\n",
              "    }\n",
              "    60% {\n",
              "      border-color: transparent;\n",
              "      border-right-color: var(--fill-color);\n",
              "    }\n",
              "    80% {\n",
              "      border-color: transparent;\n",
              "      border-right-color: var(--fill-color);\n",
              "      border-bottom-color: var(--fill-color);\n",
              "    }\n",
              "    90% {\n",
              "      border-color: transparent;\n",
              "      border-bottom-color: var(--fill-color);\n",
              "    }\n",
              "  }\n",
              "</style>\n",
              "\n",
              "  <script>\n",
              "    async function quickchart(key) {\n",
              "      const quickchartButtonEl =\n",
              "        document.querySelector('#' + key + ' button');\n",
              "      quickchartButtonEl.disabled = true;  // To prevent multiple clicks.\n",
              "      quickchartButtonEl.classList.add('colab-df-spinner');\n",
              "      try {\n",
              "        const charts = await google.colab.kernel.invokeFunction(\n",
              "            'suggestCharts', [key], {});\n",
              "      } catch (error) {\n",
              "        console.error('Error during call to suggestCharts:', error);\n",
              "      }\n",
              "      quickchartButtonEl.classList.remove('colab-df-spinner');\n",
              "      quickchartButtonEl.classList.add('colab-df-quickchart-complete');\n",
              "    }\n",
              "    (() => {\n",
              "      let quickchartButtonEl =\n",
              "        document.querySelector('#df-958ed724-b49c-466f-a614-6e2139e04bf2 button');\n",
              "      quickchartButtonEl.style.display =\n",
              "        google.colab.kernel.accessAllowed ? 'block' : 'none';\n",
              "    })();\n",
              "  </script>\n",
              "</div>\n",
              "    </div>\n",
              "  </div>\n"
            ]
          },
          "metadata": {},
          "execution_count": 5
        }
      ],
      "source": [
        "df_cv_results_ = pd.DataFrame(grid_search.cv_results_)\n",
        "\n",
        "pd.DataFrame(grid_search.cv_results_).sort_values(\"rank_test_score\").head(10) # rank test scores"
      ]
    },
    {
      "cell_type": "code",
      "execution_count": null,
      "metadata": {
        "colab": {
          "base_uri": "https://localhost:8080/",
          "height": 508
        },
        "id": "7eCz31LEN9mj",
        "outputId": "0ae39f81-4ebd-49a5-ba7b-4c4584a91ec4"
      },
      "outputs": [
        {
          "output_type": "execute_result",
          "data": {
            "text/plain": [
              "<Axes: title={'center': 'kNN Models with Varying k'}, xlabel='param_kneighborsclassifier__n_neighbors', ylabel='mean_test_score'>"
            ]
          },
          "metadata": {},
          "execution_count": 6
        },
        {
          "output_type": "display_data",
          "data": {
            "text/plain": [
              "<Figure size 640x480 with 1 Axes>"
            ],
            "image/png": "[encoded data removed]"
          },
          "metadata": {}
        }
      ],
      "source": [
        "df_cv_results_.plot.scatter(x = \"param_kneighborsclassifier__n_neighbors\", y = \"mean_test_score\", title = \"kNN Models with Varying k\")"
      ]
    },
    {
      "cell_type": "markdown",
      "metadata": {
        "id": "UpBWqSaUNYZI"
      },
      "source": [
        "This tells us that the optimal value for k is 3."
      ]
    },
    {
      "cell_type": "code",
      "execution_count": null,
      "metadata": {
        "colab": {
          "base_uri": "https://localhost:8080/"
        },
        "id": "BhEMl-w7NawO",
        "outputId": "1c54b591-b480-458f-b7fc-7866ecf5e0c2"
      },
      "outputs": [
        {
          "output_type": "execute_result",
          "data": {
            "text/plain": [
              "0.9370365382934186"
            ]
          },
          "metadata": {},
          "execution_count": 7
        }
      ],
      "source": [
        "kNNPipeline.fit(X=X_train, y=y_train)\n",
        "y_pred = kNNPipeline.predict(X_test)\n",
        "\n",
        "f1_score(y_pred, y_test, average='macro')"
      ]
    },
    {
      "cell_type": "markdown",
      "metadata": {
        "id": "9ppRqiNUUq6T"
      },
      "source": [
        "Thus, kNN with a k value of 3 has an F1-score of 0.9370365382934186 on the test set."
      ]
    },
    {
      "cell_type": "code",
      "execution_count": null,
      "metadata": {
        "id": "s9oy6TxMU4Q7"
      },
      "outputs": [],
      "source": [
        "with open('kNN_model', 'wb') as pickle_file:\n",
        "        pickle.dump(kNNPipeline, pickle_file)"
      ]
    },
    {
      "cell_type": "markdown",
      "metadata": {
        "id": "jJNtCXnkPElj"
      },
      "source": [
        "# Neural Network"
      ]
    },
    {
      "cell_type": "code",
      "execution_count": null,
      "metadata": {
        "colab": {
          "base_uri": "https://localhost:8080/"
        },
        "id": "CiEp69bRU_hC",
        "outputId": "22b173c4-c019-4a3d-cc9f-01b58c10fe48"
      },
      "outputs": [
        {
          "output_type": "execute_result",
          "data": {
            "text/plain": [
              "array([[1., 0., 0.],\n",
              "       [0., 0., 1.],\n",
              "       [1., 0., 0.],\n",
              "       ...,\n",
              "       [0., 1., 0.],\n",
              "       [1., 0., 0.],\n",
              "       [1., 0., 0.]], dtype=float32)"
            ]
          },
          "metadata": {},
          "execution_count": 3
        }
      ],
      "source": [
        "labelEncoder = LabelEncoder()\n",
        "df_stellar['class'] = labelEncoder.fit_transform(df_stellar['class']) #Galaxy = 0, qso = 1, star = 2\n",
        "\n",
        "X = df_stellar[['alpha', 'delta', 'u', 'g', 'r', 'i', 'z', 'redshift']]\n",
        "y = df_stellar['class'].values\n",
        "\n",
        "scaler = StandardScaler()\n",
        "X = scaler.fit_transform(X.values)\n",
        "\n",
        "X_train, X_test, y_train, y_test = train_test_split(X, y, test_size=0.2, random_state=1, stratify=y)\n",
        "X_train, X_val, y_train, y_val = train_test_split(X_train, y_train, test_size=0.25, random_state=1)\n",
        "\n",
        "y_train = tf.keras.utils.to_categorical(y_train, 3)\n",
        "y_train"
      ]
    },
    {
      "cell_type": "code",
      "execution_count": null,
      "metadata": {
        "colab": {
          "base_uri": "https://localhost:8080/"
        },
        "id": "vPXfSP4jVecg",
        "outputId": "2fb31b49-5c80-46ea-dbaf-f3415a3d8a4d"
      },
      "outputs": [
        {
          "output_type": "stream",
          "name": "stdout",
          "text": [
            "Epoch 1/100\n",
            "120/120 [==============================] - 6s 6ms/step - loss: 0.9193 - accuracy: 0.7185 - precision: 0.7208 - recall: 0.2539\n",
            "Epoch 2/100\n",
            "120/120 [==============================] - 1s 5ms/step - loss: 0.6141 - accuracy: 0.8274 - precision: 0.7445 - recall: 0.7343\n",
            "Epoch 3/100\n",
            "120/120 [==============================] - 1s 6ms/step - loss: 0.4192 - accuracy: 0.9028 - precision: 0.8578 - recall: 0.8491\n",
            "Epoch 4/100\n",
            "120/120 [==============================] - 1s 5ms/step - loss: 0.2867 - accuracy: 0.9386 - precision: 0.9091 - recall: 0.9064\n",
            "Epoch 5/100\n",
            "120/120 [==============================] - 0s 4ms/step - loss: 0.2274 - accuracy: 0.9546 - precision: 0.9329 - recall: 0.9307\n",
            "Epoch 6/100\n",
            "120/120 [==============================] - 1s 5ms/step - loss: 0.1956 - accuracy: 0.9624 - precision: 0.9444 - recall: 0.9427\n",
            "Epoch 7/100\n",
            "120/120 [==============================] - 1s 6ms/step - loss: 0.1750 - accuracy: 0.9671 - precision: 0.9511 - recall: 0.9501\n",
            "Epoch 8/100\n",
            "120/120 [==============================] - 1s 5ms/step - loss: 0.1630 - accuracy: 0.9689 - precision: 0.9539 - recall: 0.9528\n",
            "Epoch 9/100\n",
            "120/120 [==============================] - 1s 6ms/step - loss: 0.1548 - accuracy: 0.9710 - precision: 0.9571 - recall: 0.9560\n",
            "Epoch 10/100\n",
            "120/120 [==============================] - 1s 6ms/step - loss: 0.1501 - accuracy: 0.9714 - precision: 0.9576 - recall: 0.9566\n",
            "Epoch 11/100\n",
            "120/120 [==============================] - 1s 7ms/step - loss: 0.1453 - accuracy: 0.9722 - precision: 0.9588 - recall: 0.9579\n",
            "Epoch 12/100\n",
            "120/120 [==============================] - 1s 6ms/step - loss: 0.1415 - accuracy: 0.9730 - precision: 0.9600 - recall: 0.9591\n",
            "Epoch 13/100\n",
            "120/120 [==============================] - 1s 6ms/step - loss: 0.1391 - accuracy: 0.9735 - precision: 0.9606 - recall: 0.9598\n",
            "Epoch 14/100\n",
            "120/120 [==============================] - 1s 7ms/step - loss: 0.1365 - accuracy: 0.9739 - precision: 0.9612 - recall: 0.9605\n",
            "Epoch 15/100\n",
            "120/120 [==============================] - 1s 7ms/step - loss: 0.1344 - accuracy: 0.9741 - precision: 0.9615 - recall: 0.9607\n",
            "Epoch 16/100\n",
            "120/120 [==============================] - 1s 4ms/step - loss: 0.1319 - accuracy: 0.9747 - precision: 0.9623 - recall: 0.9617\n",
            "Epoch 17/100\n",
            "120/120 [==============================] - 1s 5ms/step - loss: 0.1304 - accuracy: 0.9750 - precision: 0.9627 - recall: 0.9623\n",
            "Epoch 18/100\n",
            "120/120 [==============================] - 1s 4ms/step - loss: 0.1284 - accuracy: 0.9752 - precision: 0.9631 - recall: 0.9625\n",
            "Epoch 19/100\n",
            "120/120 [==============================] - 0s 4ms/step - loss: 0.1271 - accuracy: 0.9754 - precision: 0.9635 - recall: 0.9628\n",
            "Epoch 20/100\n",
            "120/120 [==============================] - 0s 4ms/step - loss: 0.1264 - accuracy: 0.9753 - precision: 0.9632 - recall: 0.9627\n",
            "Epoch 21/100\n",
            "120/120 [==============================] - 0s 3ms/step - loss: 0.1251 - accuracy: 0.9753 - precision: 0.9632 - recall: 0.9627\n",
            "Epoch 22/100\n",
            "120/120 [==============================] - 0s 4ms/step - loss: 0.1236 - accuracy: 0.9762 - precision: 0.9645 - recall: 0.9641\n",
            "Epoch 23/100\n",
            "120/120 [==============================] - 0s 3ms/step - loss: 0.1226 - accuracy: 0.9761 - precision: 0.9643 - recall: 0.9639\n",
            "Epoch 24/100\n",
            "120/120 [==============================] - 0s 4ms/step - loss: 0.1214 - accuracy: 0.9763 - precision: 0.9646 - recall: 0.9644\n",
            "Epoch 25/100\n",
            "120/120 [==============================] - 0s 4ms/step - loss: 0.1208 - accuracy: 0.9766 - precision: 0.9651 - recall: 0.9647\n",
            "Epoch 26/100\n",
            "120/120 [==============================] - 0s 3ms/step - loss: 0.1202 - accuracy: 0.9765 - precision: 0.9650 - recall: 0.9645\n",
            "Epoch 27/100\n",
            "120/120 [==============================] - 0s 4ms/step - loss: 0.1194 - accuracy: 0.9766 - precision: 0.9650 - recall: 0.9647\n",
            "Epoch 28/100\n",
            "120/120 [==============================] - 1s 4ms/step - loss: 0.1189 - accuracy: 0.9768 - precision: 0.9653 - recall: 0.9650\n",
            "Epoch 29/100\n",
            "120/120 [==============================] - 0s 3ms/step - loss: 0.1182 - accuracy: 0.9767 - precision: 0.9652 - recall: 0.9650\n",
            "Epoch 30/100\n",
            "120/120 [==============================] - 0s 2ms/step - loss: 0.1174 - accuracy: 0.9771 - precision: 0.9657 - recall: 0.9655\n",
            "Epoch 31/100\n",
            "120/120 [==============================] - 0s 2ms/step - loss: 0.1166 - accuracy: 0.9772 - precision: 0.9659 - recall: 0.9657\n",
            "Epoch 32/100\n",
            "120/120 [==============================] - 0s 2ms/step - loss: 0.1159 - accuracy: 0.9772 - precision: 0.9659 - recall: 0.9657\n",
            "Epoch 33/100\n",
            "120/120 [==============================] - 0s 3ms/step - loss: 0.1158 - accuracy: 0.9772 - precision: 0.9659 - recall: 0.9658\n",
            "Epoch 34/100\n",
            "120/120 [==============================] - 0s 3ms/step - loss: 0.1157 - accuracy: 0.9773 - precision: 0.9660 - recall: 0.9657\n",
            "Epoch 35/100\n",
            "120/120 [==============================] - 0s 3ms/step - loss: 0.1152 - accuracy: 0.9773 - precision: 0.9661 - recall: 0.9659\n",
            "Epoch 36/100\n",
            "120/120 [==============================] - 0s 3ms/step - loss: 0.1150 - accuracy: 0.9771 - precision: 0.9658 - recall: 0.9656\n",
            "Epoch 37/100\n",
            "120/120 [==============================] - 0s 2ms/step - loss: 0.1144 - accuracy: 0.9775 - precision: 0.9663 - recall: 0.9661\n",
            "Epoch 38/100\n",
            "120/120 [==============================] - 0s 2ms/step - loss: 0.1142 - accuracy: 0.9776 - precision: 0.9664 - recall: 0.9663\n",
            "Epoch 39/100\n",
            "120/120 [==============================] - 0s 3ms/step - loss: 0.1137 - accuracy: 0.9776 - precision: 0.9665 - recall: 0.9663\n",
            "Epoch 40/100\n",
            "120/120 [==============================] - 0s 2ms/step - loss: 0.1138 - accuracy: 0.9774 - precision: 0.9662 - recall: 0.9661\n",
            "Epoch 41/100\n",
            "120/120 [==============================] - 0s 2ms/step - loss: 0.1133 - accuracy: 0.9776 - precision: 0.9664 - recall: 0.9663\n",
            "Epoch 42/100\n",
            "120/120 [==============================] - 0s 3ms/step - loss: 0.1127 - accuracy: 0.9779 - precision: 0.9669 - recall: 0.9668\n",
            "Epoch 43/100\n",
            "120/120 [==============================] - 0s 3ms/step - loss: 0.1137 - accuracy: 0.9777 - precision: 0.9666 - recall: 0.9664\n",
            "Epoch 44/100\n",
            "120/120 [==============================] - 0s 3ms/step - loss: 0.1128 - accuracy: 0.9780 - precision: 0.9670 - recall: 0.9669\n",
            "Epoch 45/100\n",
            "120/120 [==============================] - 0s 3ms/step - loss: 0.1124 - accuracy: 0.9778 - precision: 0.9668 - recall: 0.9667\n",
            "Epoch 46/100\n",
            "120/120 [==============================] - 0s 3ms/step - loss: 0.1118 - accuracy: 0.9778 - precision: 0.9668 - recall: 0.9667\n",
            "Epoch 47/100\n",
            "120/120 [==============================] - 0s 2ms/step - loss: 0.1118 - accuracy: 0.9781 - precision: 0.9672 - recall: 0.9671\n",
            "Epoch 48/100\n",
            "120/120 [==============================] - 0s 2ms/step - loss: 0.1120 - accuracy: 0.9780 - precision: 0.9671 - recall: 0.9670\n",
            "Epoch 49/100\n",
            "120/120 [==============================] - 0s 3ms/step - loss: 0.1120 - accuracy: 0.9779 - precision: 0.9669 - recall: 0.9667\n",
            "Epoch 50/100\n",
            "120/120 [==============================] - 0s 2ms/step - loss: 0.1110 - accuracy: 0.9781 - precision: 0.9672 - recall: 0.9670\n",
            "Epoch 51/100\n",
            "120/120 [==============================] - 0s 2ms/step - loss: 0.1107 - accuracy: 0.9782 - precision: 0.9673 - recall: 0.9672\n",
            "Epoch 52/100\n",
            "120/120 [==============================] - 0s 3ms/step - loss: 0.1107 - accuracy: 0.9781 - precision: 0.9672 - recall: 0.9670\n",
            "Epoch 53/100\n",
            "120/120 [==============================] - 0s 3ms/step - loss: 0.1102 - accuracy: 0.9782 - precision: 0.9673 - recall: 0.9672\n",
            "Epoch 54/100\n",
            "120/120 [==============================] - 0s 2ms/step - loss: 0.1104 - accuracy: 0.9779 - precision: 0.9669 - recall: 0.9668\n",
            "Epoch 55/100\n",
            "120/120 [==============================] - 0s 3ms/step - loss: 0.1103 - accuracy: 0.9783 - precision: 0.9675 - recall: 0.9674\n",
            "Epoch 56/100\n",
            "120/120 [==============================] - 0s 3ms/step - loss: 0.1100 - accuracy: 0.9781 - precision: 0.9673 - recall: 0.9671\n",
            "Epoch 57/100\n",
            "120/120 [==============================] - 0s 3ms/step - loss: 0.1101 - accuracy: 0.9781 - precision: 0.9671 - recall: 0.9671\n",
            "Epoch 58/100\n",
            "120/120 [==============================] - 0s 3ms/step - loss: 0.1101 - accuracy: 0.9782 - precision: 0.9674 - recall: 0.9673\n",
            "Epoch 59/100\n",
            "120/120 [==============================] - 0s 2ms/step - loss: 0.1099 - accuracy: 0.9782 - precision: 0.9673 - recall: 0.9673\n",
            "Epoch 60/100\n",
            "120/120 [==============================] - 0s 2ms/step - loss: 0.1098 - accuracy: 0.9783 - precision: 0.9675 - recall: 0.9674\n",
            "Epoch 61/100\n",
            "120/120 [==============================] - 0s 4ms/step - loss: 0.1093 - accuracy: 0.9785 - precision: 0.9678 - recall: 0.9677\n",
            "Epoch 62/100\n",
            "120/120 [==============================] - 1s 4ms/step - loss: 0.1099 - accuracy: 0.9783 - precision: 0.9676 - recall: 0.9675\n",
            "Epoch 63/100\n",
            "120/120 [==============================] - 0s 4ms/step - loss: 0.1092 - accuracy: 0.9783 - precision: 0.9675 - recall: 0.9674\n",
            "Epoch 64/100\n",
            "120/120 [==============================] - 0s 4ms/step - loss: 0.1093 - accuracy: 0.9782 - precision: 0.9674 - recall: 0.9672\n",
            "Epoch 65/100\n",
            "120/120 [==============================] - 0s 4ms/step - loss: 0.1089 - accuracy: 0.9783 - precision: 0.9675 - recall: 0.9674\n",
            "Epoch 66/100\n",
            "120/120 [==============================] - 1s 4ms/step - loss: 0.1090 - accuracy: 0.9783 - precision: 0.9674 - recall: 0.9674\n",
            "Epoch 67/100\n",
            "120/120 [==============================] - 0s 4ms/step - loss: 0.1087 - accuracy: 0.9786 - precision: 0.9680 - recall: 0.9679\n",
            "Epoch 68/100\n",
            "120/120 [==============================] - 1s 4ms/step - loss: 0.1085 - accuracy: 0.9785 - precision: 0.9678 - recall: 0.9678\n",
            "Epoch 69/100\n",
            "120/120 [==============================] - 0s 3ms/step - loss: 0.1100 - accuracy: 0.9782 - precision: 0.9674 - recall: 0.9673\n",
            "Epoch 70/100\n",
            "120/120 [==============================] - 0s 4ms/step - loss: 0.1085 - accuracy: 0.9783 - precision: 0.9674 - recall: 0.9674\n",
            "Epoch 71/100\n",
            "120/120 [==============================] - 0s 3ms/step - loss: 0.1091 - accuracy: 0.9782 - precision: 0.9673 - recall: 0.9673\n",
            "Epoch 72/100\n",
            "120/120 [==============================] - 0s 4ms/step - loss: 0.1090 - accuracy: 0.9785 - precision: 0.9678 - recall: 0.9677\n",
            "Epoch 73/100\n",
            "120/120 [==============================] - 0s 4ms/step - loss: 0.1082 - accuracy: 0.9786 - precision: 0.9679 - recall: 0.9678\n",
            "Epoch 74/100\n",
            "120/120 [==============================] - 0s 4ms/step - loss: 0.1082 - accuracy: 0.9787 - precision: 0.9680 - recall: 0.9680\n",
            "Epoch 75/100\n",
            "120/120 [==============================] - 0s 4ms/step - loss: 0.1082 - accuracy: 0.9784 - precision: 0.9677 - recall: 0.9676\n",
            "Epoch 76/100\n",
            "120/120 [==============================] - 0s 3ms/step - loss: 0.1078 - accuracy: 0.9786 - precision: 0.9679 - recall: 0.9679\n",
            "Epoch 77/100\n",
            "120/120 [==============================] - 1s 4ms/step - loss: 0.1074 - accuracy: 0.9787 - precision: 0.9680 - recall: 0.9680\n",
            "Epoch 78/100\n",
            "120/120 [==============================] - 0s 4ms/step - loss: 0.1078 - accuracy: 0.9786 - precision: 0.9679 - recall: 0.9679\n",
            "Epoch 79/100\n",
            "120/120 [==============================] - 0s 3ms/step - loss: 0.1076 - accuracy: 0.9786 - precision: 0.9679 - recall: 0.9678\n",
            "Epoch 80/100\n",
            "120/120 [==============================] - 0s 3ms/step - loss: 0.1080 - accuracy: 0.9785 - precision: 0.9678 - recall: 0.9677\n",
            "Epoch 81/100\n",
            "120/120 [==============================] - 0s 3ms/step - loss: 0.1071 - accuracy: 0.9787 - precision: 0.9681 - recall: 0.9681\n",
            "Epoch 82/100\n",
            "120/120 [==============================] - 0s 3ms/step - loss: 0.1070 - accuracy: 0.9787 - precision: 0.9681 - recall: 0.9680\n",
            "Epoch 83/100\n",
            "120/120 [==============================] - 0s 3ms/step - loss: 0.1076 - accuracy: 0.9789 - precision: 0.9683 - recall: 0.9682\n",
            "Epoch 84/100\n",
            "120/120 [==============================] - 0s 3ms/step - loss: 0.1074 - accuracy: 0.9787 - precision: 0.9680 - recall: 0.9680\n",
            "Epoch 85/100\n",
            "120/120 [==============================] - 0s 3ms/step - loss: 0.1069 - accuracy: 0.9787 - precision: 0.9681 - recall: 0.9681\n",
            "Epoch 86/100\n",
            "120/120 [==============================] - 0s 3ms/step - loss: 0.1072 - accuracy: 0.9787 - precision: 0.9681 - recall: 0.9679\n",
            "Epoch 87/100\n",
            "120/120 [==============================] - 0s 3ms/step - loss: 0.1073 - accuracy: 0.9789 - precision: 0.9684 - recall: 0.9683\n",
            "Epoch 88/100\n",
            "120/120 [==============================] - 1s 9ms/step - loss: 0.1068 - accuracy: 0.9787 - precision: 0.9681 - recall: 0.9681\n",
            "Epoch 89/100\n",
            "120/120 [==============================] - 0s 4ms/step - loss: 0.1067 - accuracy: 0.9787 - precision: 0.9681 - recall: 0.9680\n",
            "Epoch 90/100\n",
            "120/120 [==============================] - 1s 8ms/step - loss: 0.1067 - accuracy: 0.9786 - precision: 0.9679 - recall: 0.9679\n",
            "Epoch 91/100\n",
            "120/120 [==============================] - 0s 4ms/step - loss: 0.1067 - accuracy: 0.9789 - precision: 0.9683 - recall: 0.9683\n",
            "Epoch 92/100\n",
            "120/120 [==============================] - 0s 2ms/step - loss: 0.1067 - accuracy: 0.9787 - precision: 0.9681 - recall: 0.9680\n",
            "Epoch 93/100\n",
            "120/120 [==============================] - 0s 3ms/step - loss: 0.1063 - accuracy: 0.9787 - precision: 0.9681 - recall: 0.9680\n",
            "Epoch 94/100\n",
            "120/120 [==============================] - 0s 2ms/step - loss: 0.1065 - accuracy: 0.9787 - precision: 0.9681 - recall: 0.9680\n",
            "Epoch 95/100\n",
            "120/120 [==============================] - 0s 2ms/step - loss: 0.1068 - accuracy: 0.9789 - precision: 0.9683 - recall: 0.9682\n",
            "Epoch 96/100\n",
            "120/120 [==============================] - 0s 2ms/step - loss: 0.1069 - accuracy: 0.9787 - precision: 0.9681 - recall: 0.9680\n",
            "Epoch 97/100\n",
            "120/120 [==============================] - 0s 3ms/step - loss: 0.1068 - accuracy: 0.9788 - precision: 0.9682 - recall: 0.9682\n",
            "Epoch 98/100\n",
            "120/120 [==============================] - 0s 2ms/step - loss: 0.1082 - accuracy: 0.9781 - precision: 0.9673 - recall: 0.9671\n",
            "Epoch 99/100\n",
            "120/120 [==============================] - 0s 3ms/step - loss: 0.1058 - accuracy: 0.9790 - precision: 0.9686 - recall: 0.9686\n",
            "Epoch 100/100\n",
            "120/120 [==============================] - 0s 3ms/step - loss: 0.1061 - accuracy: 0.9786 - precision: 0.9680 - recall: 0.9679\n"
          ]
        }
      ],
      "source": [
        "model = tf.keras.Sequential([\n",
        "    tf.keras.layers.Dense(15, activation='relu'),\n",
        "    tf.keras.layers.Dense(12, activation='relu'),\n",
        "    tf.keras.layers.Dense(9, activation='relu'),\n",
        "    tf.keras.layers.Dense(3, activation='softmax')\n",
        "    ])\n",
        "\n",
        "model.compile(\n",
        "    loss='categorical_crossentropy',\n",
        "    optimizer=tf.keras.optimizers.Adam(learning_rate=0.001),\n",
        "    metrics=[\n",
        "        tf.keras.metrics.BinaryAccuracy(name='accuracy'),\n",
        "        tf.keras.metrics.Precision(name='precision'),\n",
        "        tf.keras.metrics.Recall(name='recall')\n",
        "    ]\n",
        "    )\n",
        "history = model.fit(X_train, y_train, epochs=100, batch_size=500)"
      ]
    },
    {
      "cell_type": "markdown",
      "metadata": {
        "id": "6iAFpyBZsnlf"
      },
      "source": [
        "### Validation (precision, recall, f1)"
      ]
    },
    {
      "cell_type": "code",
      "execution_count": null,
      "metadata": {
        "colab": {
          "base_uri": "https://localhost:8080/"
        },
        "id": "SU_oeY5rsJ_Z",
        "outputId": "e7ab739a-a739-4f12-e426-4d89a7d93154"
      },
      "outputs": [
        {
          "output_type": "stream",
          "name": "stdout",
          "text": [
            "625/625 [==============================] - 1s 1ms/step\n",
            "625/625 [==============================] - 1s 1ms/step\n",
            "625/625 [==============================] - 1s 2ms/step\n"
          ]
        },
        {
          "output_type": "execute_result",
          "data": {
            "text/plain": [
              "(0.967576377429645, 0.9620265756414376, 0.9645522545087685)"
            ]
          },
          "metadata": {},
          "execution_count": 11
        }
      ],
      "source": [
        "precision_score(y_val, np.argmax(model.predict(X_val), axis=1), average='macro'), recall_score(y_val, np.argmax(model.predict(X_val), axis=1),  average='macro'), f1_score(y_val, np.argmax(model.predict(X_val), axis=1), average='macro')"
      ]
    },
    {
      "cell_type": "markdown",
      "metadata": {
        "id": "9VkWZ8jpsqBC"
      },
      "source": [
        "### Test (precision, recall, f1)"
      ]
    },
    {
      "cell_type": "code",
      "execution_count": null,
      "metadata": {
        "colab": {
          "base_uri": "https://localhost:8080/"
        },
        "id": "Y4j_UxKasvGA",
        "outputId": "7413c1a7-a176-4cf9-f2a8-d0ad78f22c6e"
      },
      "outputs": [
        {
          "output_type": "stream",
          "name": "stdout",
          "text": [
            "625/625 [==============================] - 1s 2ms/step\n",
            "625/625 [==============================] - 1s 2ms/step\n",
            "625/625 [==============================] - 1s 1ms/step\n"
          ]
        },
        {
          "output_type": "execute_result",
          "data": {
            "text/plain": [
              "(0.9687974111490641, 0.9629183992162913, 0.9656180464949284)"
            ]
          },
          "metadata": {},
          "execution_count": 12
        }
      ],
      "source": [
        "precision_score(y_test, np.argmax(model.predict(X_test), axis=1), average='macro'), recall_score(y_test, np.argmax(model.predict(X_test), axis=1),  average='macro'), f1_score(y_test, np.argmax(model.predict(X_test), axis=1), average='macro')"
      ]
    },
    {
      "cell_type": "markdown",
      "metadata": {
        "id": "nAJHn0CC_1hF"
      },
      "source": [
        "The neural network has a test macro F1 score of 0.9658185."
      ]
    },
    {
      "cell_type": "code",
      "execution_count": null,
      "metadata": {
        "id": "XJbWgN-xU-My"
      },
      "outputs": [],
      "source": [
        "with open('neuralNetwork_model', 'wb') as pickle_file:\n",
        "        pickle.dump(model, pickle_file)"
      ]
    },
    {
      "cell_type": "markdown",
      "metadata": {
        "id": "5LfSWkqKeKn8"
      },
      "source": [
        "## Support Vector Machine"
      ]
    },
    {
      "cell_type": "code",
      "execution_count": null,
      "metadata": {
        "id": "mugqCsGLAaiD"
      },
      "outputs": [],
      "source": [
        "labelEncoder = LabelEncoder()\n",
        "df_stellar['class'] = labelEncoder.fit_transform(df_stellar['class']) #Galaxy = 0, qso = 1, star = 2\n",
        "\n",
        "# df_stellar = df_stellar[:5000] #for demo only\n",
        "\n",
        "X = df_stellar[['alpha', 'delta', 'u', 'g', 'r', 'i', 'z', 'redshift']] #features\n",
        "y = df_stellar['class'].values #label\n",
        "\n",
        "scaler = StandardScaler()\n",
        "X = scaler.fit_transform(X.values)\n",
        "\n",
        "\n",
        "X_train, X_test, y_train, y_test = train_test_split(X, y, test_size=0.2, random_state=1, stratify=y)\n",
        "X_train, X_val, y_train, y_val = train_test_split(X_train, y_train, test_size=0.25, random_state=1)\n",
        "#same split, because there is uneven distribution of labels, we will stratify"
      ]
    },
    {
      "cell_type": "code",
      "execution_count": null,
      "metadata": {
        "colab": {
          "base_uri": "https://localhost:8080/"
        },
        "id": "SdZ6NPl4igIv",
        "outputId": "b32eb099-b4a3-4490-9a9e-db8d29f02071"
      },
      "outputs": [
        {
          "output_type": "execute_result",
          "data": {
            "text/plain": [
              "(0.9594, 0.8859, 0.94185)"
            ]
          },
          "metadata": {},
          "execution_count": 15
        }
      ],
      "source": [
        "rbf = svm.SVC(kernel='rbf', gamma=0.5, C=0.1).fit(X_train, y_train)\n",
        "poly = svm.SVC(kernel='poly', degree=3, C=1).fit(X_train, y_train)\n",
        "linear = svm.SVC(kernel='linear', C=1).fit(X_train, y_train)\n",
        "\n",
        "poly_pred = poly.predict(X_val)\n",
        "rbf_pred = rbf.predict(X_val)\n",
        "linear_pred = linear.predict(X_val)\n",
        "\n",
        "accuracy_lin = linear.score(X_val, y_val)\n",
        "accuracy_poly = poly.score(X_val, y_val)\n",
        "accuracy_rbf = rbf.score(X_val, y_val)\n",
        "# print(\"Accuracy Linear Kernel:\", accuracy_lin)\n",
        "# print(\"Accuracy Polynomial Kernel:\", accuracy_poly)\n",
        "# print(\"Accuracy Radial Basis Kernel:\", accuracy_rbf)\n",
        "accuracy_lin, accuracy_poly, accuracy_rbf"
      ]
    },
    {
      "cell_type": "markdown",
      "metadata": {
        "id": "xP8N0sWsszh5"
      },
      "source": [
        "### Validation"
      ]
    },
    {
      "cell_type": "code",
      "execution_count": null,
      "metadata": {
        "colab": {
          "base_uri": "https://localhost:8080/"
        },
        "id": "A5BWu2rIs1UI",
        "outputId": "4934f87d-0417-466c-de73-9e572503ef5f"
      },
      "outputs": [
        {
          "output_type": "stream",
          "name": "stdout",
          "text": [
            "Poly:\n",
            "0.9056954397558981 0.8433030328995686 0.8699756186643341\n",
            "RBF:\n",
            "0.9395474752320685 0.9340827304060219 0.935482333344381\n",
            "Lin:\n",
            "0.9572611774422087 0.949796131031624 0.952945341210888\n"
          ]
        }
      ],
      "source": [
        "print(\"Poly:\")\n",
        "print(precision_score(y_val, poly.predict(X_val), average='macro'), recall_score(y_val, poly.predict(X_val), average='macro'), f1_score(y_val, poly.predict(X_val), average='macro'))\n",
        "print(\"RBF:\")\n",
        "print(precision_score(y_val, rbf.predict(X_val), average='macro'), recall_score(y_val, rbf.predict(X_val), average='macro'), f1_score(y_val, rbf.predict(X_val), average='macro'))\n",
        "print(\"Lin:\")\n",
        "print(precision_score(y_val, linear.predict(X_val), average='macro'), recall_score(y_val, linear.predict(X_val), average='macro'), f1_score(y_val, linear.predict(X_val), average='macro'))\n"
      ]
    },
    {
      "cell_type": "markdown",
      "metadata": {
        "id": "lon1mCFStcue"
      },
      "source": [
        "### Test"
      ]
    },
    {
      "cell_type": "code",
      "execution_count": null,
      "metadata": {
        "colab": {
          "base_uri": "https://localhost:8080/"
        },
        "id": "yQhj7FM5td7J",
        "outputId": "2d9cb5d3-333f-40ab-bfb4-6931acd238f0"
      },
      "outputs": [
        {
          "output_type": "execute_result",
          "data": {
            "text/plain": [
              "(0.9600072412708468, 0.950116970691981, 0.9544209315552911)"
            ]
          },
          "metadata": {},
          "execution_count": 17
        }
      ],
      "source": [
        "precision_score(y_test, linear.predict(X_test), average='macro'), recall_score(y_test, linear.predict(X_test), average='macro'), f1_score(y_test, linear.predict(X_test), average='macro')"
      ]
    },
    {
      "cell_type": "code",
      "execution_count": null,
      "metadata": {
        "id": "3wy0OBGOVFDr"
      },
      "outputs": [],
      "source": [
        "with open('SVM_model', 'wb') as pickle_file:\n",
        "        pickle.dump(poly, pickle_file)"
      ]
    },
    {
      "cell_type": "markdown",
      "metadata": {
        "id": "EX0zzZSJjKRs"
      },
      "source": [
        "## Decision Tree"
      ]
    },
    {
      "cell_type": "code",
      "execution_count": null,
      "metadata": {
        "id": "Gtf5NiByjoQf",
        "colab": {
          "base_uri": "https://localhost:8080/",
          "height": 3421
        },
        "outputId": "4c6b3f02-d604-451b-9c5e-23ddf202bcf8"
      },
      "outputs": [
        {
          "output_type": "stream",
          "name": "stdout",
          "text": [
            "Fitting 10 folds for each of 18 candidates, totalling 180 fits\n",
            "[CV 1/10] END ......................max_depth=2;, score=0.934 total time=   0.2s\n",
            "[CV 2/10] END ......................max_depth=2;, score=0.938 total time=   0.2s\n",
            "[CV 3/10] END ......................max_depth=2;, score=0.936 total time=   0.2s\n",
            "[CV 4/10] END ......................max_depth=2;, score=0.936 total time=   0.2s\n",
            "[CV 5/10] END ......................max_depth=2;, score=0.934 total time=   0.2s\n",
            "[CV 6/10] END ......................max_depth=2;, score=0.936 total time=   0.2s\n",
            "[CV 7/10] END ......................max_depth=2;, score=0.933 total time=   0.2s\n",
            "[CV 8/10] END ......................max_depth=2;, score=0.934 total time=   0.2s\n",
            "[CV 9/10] END ......................max_depth=2;, score=0.939 total time=   0.2s\n",
            "[CV 10/10] END .....................max_depth=2;, score=0.938 total time=   0.2s\n",
            "[CV 1/10] END ......................max_depth=3;, score=0.937 total time=   0.3s\n",
            "[CV 2/10] END ......................max_depth=3;, score=0.942 total time=   0.3s\n",
            "[CV 3/10] END ......................max_depth=3;, score=0.940 total time=   0.3s\n",
            "[CV 4/10] END ......................max_depth=3;, score=0.940 total time=   0.3s\n",
            "[CV 5/10] END ......................max_depth=3;, score=0.939 total time=   0.3s\n",
            "[CV 6/10] END ......................max_depth=3;, score=0.940 total time=   0.3s\n",
            "[CV 7/10] END ......................max_depth=3;, score=0.937 total time=   0.3s\n",
            "[CV 8/10] END ......................max_depth=3;, score=0.939 total time=   0.3s\n",
            "[CV 9/10] END ......................max_depth=3;, score=0.942 total time=   0.3s\n",
            "[CV 10/10] END .....................max_depth=3;, score=0.943 total time=   0.3s\n",
            "[CV 1/10] END ......................max_depth=4;, score=0.956 total time=   0.4s\n",
            "[CV 2/10] END ......................max_depth=4;, score=0.961 total time=   0.4s\n",
            "[CV 3/10] END ......................max_depth=4;, score=0.956 total time=   0.4s\n",
            "[CV 4/10] END ......................max_depth=4;, score=0.958 total time=   0.4s\n",
            "[CV 5/10] END ......................max_depth=4;, score=0.958 total time=   0.4s\n",
            "[CV 6/10] END ......................max_depth=4;, score=0.957 total time=   0.4s\n",
            "[CV 7/10] END ......................max_depth=4;, score=0.958 total time=   0.4s\n",
            "[CV 8/10] END ......................max_depth=4;, score=0.960 total time=   0.4s\n",
            "[CV 9/10] END ......................max_depth=4;, score=0.962 total time=   0.4s\n",
            "[CV 10/10] END .....................max_depth=4;, score=0.961 total time=   0.4s\n",
            "[CV 1/10] END ......................max_depth=5;, score=0.957 total time=   0.5s\n",
            "[CV 2/10] END ......................max_depth=5;, score=0.960 total time=   0.7s\n",
            "[CV 3/10] END ......................max_depth=5;, score=0.955 total time=   0.7s\n",
            "[CV 4/10] END ......................max_depth=5;, score=0.958 total time=   0.7s\n",
            "[CV 5/10] END ......................max_depth=5;, score=0.959 total time=   0.7s\n",
            "[CV 6/10] END ......................max_depth=5;, score=0.957 total time=   0.7s\n",
            "[CV 7/10] END ......................max_depth=5;, score=0.959 total time=   0.7s\n",
            "[CV 8/10] END ......................max_depth=5;, score=0.960 total time=   0.7s\n",
            "[CV 9/10] END ......................max_depth=5;, score=0.961 total time=   0.7s\n",
            "[CV 10/10] END .....................max_depth=5;, score=0.963 total time=   0.5s\n",
            "[CV 1/10] END ......................max_depth=6;, score=0.961 total time=   0.6s\n",
            "[CV 2/10] END ......................max_depth=6;, score=0.963 total time=   0.6s\n",
            "[CV 3/10] END ......................max_depth=6;, score=0.959 total time=   0.6s\n",
            "[CV 4/10] END ......................max_depth=6;, score=0.961 total time=   0.6s\n",
            "[CV 5/10] END ......................max_depth=6;, score=0.961 total time=   0.6s\n",
            "[CV 6/10] END ......................max_depth=6;, score=0.960 total time=   0.6s\n",
            "[CV 7/10] END ......................max_depth=6;, score=0.964 total time=   0.6s\n",
            "[CV 8/10] END ......................max_depth=6;, score=0.962 total time=   0.6s\n",
            "[CV 9/10] END ......................max_depth=6;, score=0.965 total time=   0.6s\n",
            "[CV 10/10] END .....................max_depth=6;, score=0.963 total time=   0.6s\n",
            "[CV 1/10] END ......................max_depth=7;, score=0.968 total time=   0.7s\n",
            "[CV 2/10] END ......................max_depth=7;, score=0.970 total time=   0.7s\n",
            "[CV 3/10] END ......................max_depth=7;, score=0.966 total time=   0.7s\n",
            "[CV 4/10] END ......................max_depth=7;, score=0.971 total time=   0.7s\n",
            "[CV 5/10] END ......................max_depth=7;, score=0.968 total time=   0.7s\n",
            "[CV 6/10] END ......................max_depth=7;, score=0.967 total time=   0.8s\n",
            "[CV 7/10] END ......................max_depth=7;, score=0.971 total time=   0.9s\n",
            "[CV 8/10] END ......................max_depth=7;, score=0.971 total time=   0.9s\n",
            "[CV 9/10] END ......................max_depth=7;, score=0.971 total time=   0.9s\n",
            "[CV 10/10] END .....................max_depth=7;, score=0.971 total time=   0.9s\n",
            "[CV 1/10] END ......................max_depth=8;, score=0.966 total time=   1.0s\n",
            "[CV 2/10] END ......................max_depth=8;, score=0.968 total time=   0.9s\n",
            "[CV 3/10] END ......................max_depth=8;, score=0.965 total time=   0.8s\n",
            "[CV 4/10] END ......................max_depth=8;, score=0.971 total time=   0.7s\n",
            "[CV 5/10] END ......................max_depth=8;, score=0.968 total time=   0.7s\n",
            "[CV 6/10] END ......................max_depth=8;, score=0.966 total time=   0.8s\n",
            "[CV 7/10] END ......................max_depth=8;, score=0.971 total time=   0.7s\n",
            "[CV 8/10] END ......................max_depth=8;, score=0.970 total time=   0.8s\n",
            "[CV 9/10] END ......................max_depth=8;, score=0.971 total time=   0.7s\n",
            "[CV 10/10] END .....................max_depth=8;, score=0.969 total time=   0.7s\n",
            "[CV 1/10] END ......................max_depth=9;, score=0.970 total time=   0.8s\n",
            "[CV 2/10] END ......................max_depth=9;, score=0.972 total time=   0.8s\n",
            "[CV 3/10] END ......................max_depth=9;, score=0.967 total time=   0.8s\n",
            "[CV 4/10] END ......................max_depth=9;, score=0.971 total time=   0.8s\n",
            "[CV 5/10] END ......................max_depth=9;, score=0.968 total time=   1.0s\n",
            "[CV 6/10] END ......................max_depth=9;, score=0.965 total time=   1.2s\n",
            "[CV 7/10] END ......................max_depth=9;, score=0.972 total time=   1.1s\n",
            "[CV 8/10] END ......................max_depth=9;, score=0.972 total time=   1.1s\n",
            "[CV 9/10] END ......................max_depth=9;, score=0.971 total time=   1.1s\n",
            "[CV 10/10] END .....................max_depth=9;, score=0.970 total time=   0.9s\n",
            "[CV 1/10] END .....................max_depth=10;, score=0.969 total time=   0.9s\n",
            "[CV 2/10] END .....................max_depth=10;, score=0.970 total time=   0.9s\n",
            "[CV 3/10] END .....................max_depth=10;, score=0.966 total time=   0.9s\n",
            "[CV 4/10] END .....................max_depth=10;, score=0.973 total time=   0.9s\n",
            "[CV 5/10] END .....................max_depth=10;, score=0.967 total time=   0.9s\n",
            "[CV 6/10] END .....................max_depth=10;, score=0.967 total time=   0.9s\n",
            "[CV 7/10] END .....................max_depth=10;, score=0.972 total time=   1.1s\n",
            "[CV 8/10] END .....................max_depth=10;, score=0.971 total time=   1.0s\n",
            "[CV 9/10] END .....................max_depth=10;, score=0.970 total time=   1.0s\n",
            "[CV 10/10] END ....................max_depth=10;, score=0.971 total time=   1.2s\n",
            "[CV 1/10] END .....................max_depth=11;, score=0.967 total time=   1.8s\n",
            "[CV 2/10] END .....................max_depth=11;, score=0.969 total time=   1.7s\n",
            "[CV 3/10] END .....................max_depth=11;, score=0.965 total time=   1.4s\n",
            "[CV 4/10] END .....................max_depth=11;, score=0.971 total time=   1.3s\n",
            "[CV 5/10] END .....................max_depth=11;, score=0.967 total time=   1.3s\n",
            "[CV 6/10] END .....................max_depth=11;, score=0.965 total time=   1.0s\n",
            "[CV 7/10] END .....................max_depth=11;, score=0.970 total time=   1.0s\n",
            "[CV 8/10] END .....................max_depth=11;, score=0.972 total time=   1.0s\n",
            "[CV 9/10] END .....................max_depth=11;, score=0.970 total time=   1.0s\n",
            "[CV 10/10] END ....................max_depth=11;, score=0.970 total time=   1.0s\n",
            "[CV 1/10] END .....................max_depth=12;, score=0.967 total time=   1.0s\n",
            "[CV 2/10] END .....................max_depth=12;, score=0.968 total time=   1.0s\n",
            "[CV 3/10] END .....................max_depth=12;, score=0.965 total time=   1.0s\n",
            "[CV 4/10] END .....................max_depth=12;, score=0.970 total time=   1.1s\n",
            "[CV 5/10] END .....................max_depth=12;, score=0.967 total time=   1.1s\n",
            "[CV 6/10] END .....................max_depth=12;, score=0.965 total time=   1.4s\n",
            "[CV 7/10] END .....................max_depth=12;, score=0.971 total time=   1.4s\n",
            "[CV 8/10] END .....................max_depth=12;, score=0.971 total time=   1.4s\n",
            "[CV 9/10] END .....................max_depth=12;, score=0.969 total time=   1.4s\n",
            "[CV 10/10] END ....................max_depth=12;, score=0.971 total time=   1.0s\n",
            "[CV 1/10] END .....................max_depth=13;, score=0.967 total time=   1.1s\n",
            "[CV 2/10] END .....................max_depth=13;, score=0.966 total time=   1.1s\n",
            "[CV 3/10] END .....................max_depth=13;, score=0.964 total time=   1.1s\n",
            "[CV 4/10] END .....................max_depth=13;, score=0.969 total time=   1.1s\n",
            "[CV 5/10] END .....................max_depth=13;, score=0.965 total time=   1.1s\n",
            "[CV 6/10] END .....................max_depth=13;, score=0.966 total time=   1.1s\n",
            "[CV 7/10] END .....................max_depth=13;, score=0.971 total time=   1.1s\n",
            "[CV 8/10] END .....................max_depth=13;, score=0.971 total time=   1.1s\n",
            "[CV 9/10] END .....................max_depth=13;, score=0.967 total time=   1.5s\n",
            "[CV 10/10] END ....................max_depth=13;, score=0.969 total time=   1.5s\n",
            "[CV 1/10] END .....................max_depth=14;, score=0.965 total time=   1.5s\n",
            "[CV 2/10] END .....................max_depth=14;, score=0.966 total time=   1.4s\n",
            "[CV 3/10] END .....................max_depth=14;, score=0.962 total time=   1.1s\n",
            "[CV 4/10] END .....................max_depth=14;, score=0.969 total time=   1.2s\n",
            "[CV 5/10] END .....................max_depth=14;, score=0.964 total time=   1.1s\n",
            "[CV 6/10] END .....................max_depth=14;, score=0.964 total time=   1.2s\n",
            "[CV 7/10] END .....................max_depth=14;, score=0.970 total time=   1.2s\n",
            "[CV 8/10] END .....................max_depth=14;, score=0.969 total time=   1.2s\n",
            "[CV 9/10] END .....................max_depth=14;, score=0.966 total time=   1.2s\n",
            "[CV 10/10] END ....................max_depth=14;, score=0.967 total time=   1.2s\n",
            "[CV 1/10] END .....................max_depth=15;, score=0.964 total time=   1.5s\n",
            "[CV 2/10] END .....................max_depth=15;, score=0.965 total time=   1.6s\n",
            "[CV 3/10] END .....................max_depth=15;, score=0.961 total time=   1.6s\n",
            "[CV 4/10] END .....................max_depth=15;, score=0.968 total time=   1.6s\n",
            "[CV 5/10] END .....................max_depth=15;, score=0.961 total time=   1.2s\n",
            "[CV 6/10] END .....................max_depth=15;, score=0.962 total time=   1.2s\n",
            "[CV 7/10] END .....................max_depth=15;, score=0.968 total time=   1.2s\n",
            "[CV 8/10] END .....................max_depth=15;, score=0.968 total time=   1.2s\n",
            "[CV 9/10] END .....................max_depth=15;, score=0.966 total time=   1.2s\n",
            "[CV 10/10] END ....................max_depth=15;, score=0.966 total time=   1.2s\n",
            "[CV 1/10] END .....................max_depth=16;, score=0.966 total time=   1.2s\n",
            "[CV 2/10] END .....................max_depth=16;, score=0.964 total time=   1.2s\n",
            "[CV 3/10] END .....................max_depth=16;, score=0.960 total time=   1.6s\n",
            "[CV 4/10] END .....................max_depth=16;, score=0.968 total time=   1.7s\n",
            "[CV 5/10] END .....................max_depth=16;, score=0.962 total time=   1.7s\n",
            "[CV 6/10] END .....................max_depth=16;, score=0.963 total time=   1.4s\n",
            "[CV 7/10] END .....................max_depth=16;, score=0.966 total time=   1.2s\n",
            "[CV 8/10] END .....................max_depth=16;, score=0.967 total time=   1.2s\n",
            "[CV 9/10] END .....................max_depth=16;, score=0.964 total time=   1.2s\n",
            "[CV 10/10] END ....................max_depth=16;, score=0.966 total time=   1.3s\n",
            "[CV 1/10] END .....................max_depth=17;, score=0.963 total time=   1.3s\n",
            "[CV 2/10] END .....................max_depth=17;, score=0.964 total time=   1.2s\n",
            "[CV 3/10] END .....................max_depth=17;, score=0.959 total time=   1.3s\n",
            "[CV 4/10] END .....................max_depth=17;, score=0.965 total time=   1.6s\n",
            "[CV 5/10] END .....................max_depth=17;, score=0.961 total time=   1.7s\n",
            "[CV 6/10] END .....................max_depth=17;, score=0.962 total time=   1.7s\n",
            "[CV 7/10] END .....................max_depth=17;, score=0.964 total time=   1.5s\n",
            "[CV 8/10] END .....................max_depth=17;, score=0.966 total time=   1.3s\n",
            "[CV 9/10] END .....................max_depth=17;, score=0.963 total time=   1.2s\n",
            "[CV 10/10] END ....................max_depth=17;, score=0.966 total time=   1.3s\n",
            "[CV 1/10] END .....................max_depth=18;, score=0.961 total time=   1.3s\n",
            "[CV 2/10] END .....................max_depth=18;, score=0.962 total time=   1.2s\n",
            "[CV 3/10] END .....................max_depth=18;, score=0.960 total time=   1.3s\n",
            "[CV 4/10] END .....................max_depth=18;, score=0.965 total time=   1.3s\n",
            "[CV 5/10] END .....................max_depth=18;, score=0.962 total time=   1.6s\n",
            "[CV 6/10] END .....................max_depth=18;, score=0.961 total time=   1.8s\n",
            "[CV 7/10] END .....................max_depth=18;, score=0.965 total time=   1.8s\n",
            "[CV 8/10] END .....................max_depth=18;, score=0.966 total time=   1.5s\n",
            "[CV 9/10] END .....................max_depth=18;, score=0.962 total time=   1.3s\n",
            "[CV 10/10] END ....................max_depth=18;, score=0.965 total time=   1.3s\n",
            "[CV 1/10] END .....................max_depth=19;, score=0.960 total time=   1.3s\n",
            "[CV 2/10] END .....................max_depth=19;, score=0.962 total time=   1.2s\n",
            "[CV 3/10] END .....................max_depth=19;, score=0.959 total time=   1.3s\n",
            "[CV 4/10] END .....................max_depth=19;, score=0.967 total time=   1.3s\n",
            "[CV 5/10] END .....................max_depth=19;, score=0.959 total time=   1.3s\n",
            "[CV 6/10] END .....................max_depth=19;, score=0.962 total time=   1.7s\n",
            "[CV 7/10] END .....................max_depth=19;, score=0.965 total time=   1.8s\n",
            "[CV 8/10] END .....................max_depth=19;, score=0.965 total time=   1.8s\n",
            "[CV 9/10] END .....................max_depth=19;, score=0.962 total time=   1.4s\n",
            "[CV 10/10] END ....................max_depth=19;, score=0.965 total time=   1.3s\n"
          ]
        },
        {
          "output_type": "display_data",
          "data": {
            "text/plain": [
              "<Figure size 640x480 with 1 Axes>"
            ],
            "image/png": "[encoded data removed]"
          },
          "metadata": {}
        }
      ],
      "source": [
        "labelEncoder = LabelEncoder()\n",
        "df_stellar['class'] = labelEncoder.fit_transform(df_stellar['class']) #Galaxy = 0, qso = 1, star = 2\n",
        "\n",
        "X = df_stellar[['alpha', 'delta', 'u', 'g', 'r', 'i', 'z', 'redshift']]\n",
        "y = df_stellar['class'].values\n",
        "\n",
        "X_train, X_test, y_train, y_test = train_test_split(X, y, test_size=0.2, random_state=1, stratify=y)\n",
        "\n",
        "gs_model = GridSearchCV(estimator=DecisionTreeClassifier(),\n",
        "                        param_grid={'max_depth' : np.arange(2, 20, 1)},\n",
        "                        verbose=3,\n",
        "                        scoring='f1_macro',\n",
        "                        cv=10)\n",
        "\n",
        "gs_model.fit(X_train, y_train)\n",
        "\n",
        "results = pd.DataFrame(gs_model.cv_results_)\n",
        "\n",
        "\n",
        "plt.plot(results[\"param_max_depth\"], results[\"mean_test_score\"], 'bo')\n",
        "plt.xlabel(\"Max Depth\")\n",
        "plt.ylabel('F1-Score')\n",
        "plt.xticks(np.arange(2, 20, 1), np.arange(2, 20, 1))\n",
        "plt.show()"
      ]
    },
    {
      "cell_type": "markdown",
      "metadata": {
        "id": "C2ENkVnE8NSB"
      },
      "source": [
        "### Test"
      ]
    },
    {
      "cell_type": "code",
      "execution_count": null,
      "metadata": {
        "id": "fWABitqn1I5x",
        "colab": {
          "base_uri": "https://localhost:8080/",
          "height": 75
        },
        "outputId": "980439c2-2a9b-4368-cb9d-6d0be1f18553"
      },
      "outputs": [
        {
          "output_type": "execute_result",
          "data": {
            "text/plain": [
              "DecisionTreeClassifier(max_depth=9)"
            ],
            "text/html": [
              "<style>#sk-container-id-2 {color: black;background-color: white;}#sk-container-id-2 pre{padding: 0;}#sk-container-id-2 div.sk-toggleable {background-color: white;}#sk-container-id-2 label.sk-toggleable__label {cursor: pointer;display: block;width: 100%;margin-bottom: 0;padding: 0.3em;box-sizing: border-box;text-align: center;}#sk-container-id-2 label.sk-toggleable__label-arrow:before {content: \"▸\";float: left;margin-right: 0.25em;color: #696969;}#sk-container-id-2 label.sk-toggleable__label-arrow:hover:before {color: black;}#sk-container-id-2 div.sk-estimator:hover label.sk-toggleable__label-arrow:before {color: black;}#sk-container-id-2 div.sk-toggleable__content {max-height: 0;max-width: 0;overflow: hidden;text-align: left;background-color: #f0f8ff;}#sk-container-id-2 div.sk-toggleable__content pre {margin: 0.2em;color: black;border-radius: 0.25em;background-color: #f0f8ff;}#sk-container-id-2 input.sk-toggleable__control:checked~div.sk-toggleable__content {max-height: 200px;max-width: 100%;overflow: auto;}#sk-container-id-2 input.sk-toggleable__control:checked~label.sk-toggleable__label-arrow:before {content: \"▾\";}#sk-container-id-2 div.sk-estimator input.sk-toggleable__control:checked~label.sk-toggleable__label {background-color: #d4ebff;}#sk-container-id-2 div.sk-label input.sk-toggleable__control:checked~label.sk-toggleable__label {background-color: #d4ebff;}#sk-container-id-2 input.sk-hidden--visually {border: 0;clip: rect(1px 1px 1px 1px);clip: rect(1px, 1px, 1px, 1px);height: 1px;margin: -1px;overflow: hidden;padding: 0;position: absolute;width: 1px;}#sk-container-id-2 div.sk-estimator {font-family: monospace;background-color: #f0f8ff;border: 1px dotted black;border-radius: 0.25em;box-sizing: border-box;margin-bottom: 0.5em;}#sk-container-id-2 div.sk-estimator:hover {background-color: #d4ebff;}#sk-container-id-2 div.sk-parallel-item::after {content: \"\";width: 100%;border-bottom: 1px solid gray;flex-grow: 1;}#sk-container-id-2 div.sk-label:hover label.sk-toggleable__label {background-color: #d4ebff;}#sk-container-id-2 div.sk-serial::before {content: \"\";position: absolute;border-left: 1px solid gray;box-sizing: border-box;top: 0;bottom: 0;left: 50%;z-index: 0;}#sk-container-id-2 div.sk-serial {display: flex;flex-direction: column;align-items: center;background-color: white;padding-right: 0.2em;padding-left: 0.2em;position: relative;}#sk-container-id-2 div.sk-item {position: relative;z-index: 1;}#sk-container-id-2 div.sk-parallel {display: flex;align-items: stretch;justify-content: center;background-color: white;position: relative;}#sk-container-id-2 div.sk-item::before, #sk-container-id-2 div.sk-parallel-item::before {content: \"\";position: absolute;border-left: 1px solid gray;box-sizing: border-box;top: 0;bottom: 0;left: 50%;z-index: -1;}#sk-container-id-2 div.sk-parallel-item {display: flex;flex-direction: column;z-index: 1;position: relative;background-color: white;}#sk-container-id-2 div.sk-parallel-item:first-child::after {align-self: flex-end;width: 50%;}#sk-container-id-2 div.sk-parallel-item:last-child::after {align-self: flex-start;width: 50%;}#sk-container-id-2 div.sk-parallel-item:only-child::after {width: 0;}#sk-container-id-2 div.sk-dashed-wrapped {border: 1px dashed gray;margin: 0 0.4em 0.5em 0.4em;box-sizing: border-box;padding-bottom: 0.4em;background-color: white;}#sk-container-id-2 div.sk-label label {font-family: monospace;font-weight: bold;display: inline-block;line-height: 1.2em;}#sk-container-id-2 div.sk-label-container {text-align: center;}#sk-container-id-2 div.sk-container {/* jupyter's `normalize.less` sets `[hidden] { display: none; }` but bootstrap.min.css set `[hidden] { display: none !important; }` so we also need the `!important` here to be able to override the default hidden behavior on the sphinx rendered scikit-learn.org. See: https://github.com/scikit-learn/scikit-learn/issues/21755 */display: inline-block !important;position: relative;}#sk-container-id-2 div.sk-text-repr-fallback {display: none;}</style><div id=\"sk-container-id-2\" class=\"sk-top-container\"><div class=\"sk-text-repr-fallback\"><pre>DecisionTreeClassifier(max_depth=9)</pre><b>In a Jupyter environment, please rerun this cell to show the HTML representation or trust the notebook. <br />On GitHub, the HTML representation is unable to render, please try loading this page with nbviewer.org.</b></div><div class=\"sk-container\" hidden><div class=\"sk-item\"><div class=\"sk-estimator sk-toggleable\"><input class=\"sk-toggleable__control sk-hidden--visually\" id=\"sk-estimator-id-7\" type=\"checkbox\" checked><label for=\"sk-estimator-id-7\" class=\"sk-toggleable__label sk-toggleable__label-arrow\">DecisionTreeClassifier</label><div class=\"sk-toggleable__content\"><pre>DecisionTreeClassifier(max_depth=9)</pre></div></div></div></div></div>"
            ]
          },
          "metadata": {},
          "execution_count": 20
        }
      ],
      "source": [
        "decisionTree = DecisionTreeClassifier(max_depth=9)\n",
        "decisionTree.fit(X_train, y_train)"
      ]
    },
    {
      "cell_type": "code",
      "execution_count": null,
      "metadata": {
        "id": "VY2XMxYd8Lgi",
        "colab": {
          "base_uri": "https://localhost:8080/"
        },
        "outputId": "c1ad6f44-5cc7-4394-e58a-07382b5a21fa"
      },
      "outputs": [
        {
          "output_type": "execute_result",
          "data": {
            "text/plain": [
              "(0.9741612395252415, 0.9658520865387543, 0.9698622320261054)"
            ]
          },
          "metadata": {},
          "execution_count": 21
        }
      ],
      "source": [
        "precision_score(y_test, decisionTree.predict(X_test), average='macro'), recall_score(y_test, decisionTree.predict(X_test), average='macro'), f1_score(y_test, decisionTree.predict(X_test), average='macro')"
      ]
    },
    {
      "cell_type": "code",
      "execution_count": null,
      "metadata": {
        "id": "pJsWl4CuVMBB"
      },
      "outputs": [],
      "source": [
        "with open('decisionTree_model', 'wb') as pickle_file:\n",
        "        pickle.dump(gs_model, pickle_file)"
      ]
    },
    {
      "cell_type": "markdown",
      "metadata": {
        "id": "KGvW3QpWo1cN"
      },
      "source": [
        "## Random Forest"
      ]
    },
    {
      "cell_type": "code",
      "execution_count": null,
      "metadata": {
        "id": "-dBrTJNjqlTg",
        "colab": {
          "base_uri": "https://localhost:8080/",
          "height": 75
        },
        "outputId": "46665f0d-f495-4bda-964e-2926f2ce3437"
      },
      "outputs": [
        {
          "output_type": "execute_result",
          "data": {
            "text/plain": [
              "RandomForestClassifier(max_depth=10, n_estimators=91)"
            ],
            "text/html": [
              "<style>#sk-container-id-3 {color: black;background-color: white;}#sk-container-id-3 pre{padding: 0;}#sk-container-id-3 div.sk-toggleable {background-color: white;}#sk-container-id-3 label.sk-toggleable__label {cursor: pointer;display: block;width: 100%;margin-bottom: 0;padding: 0.3em;box-sizing: border-box;text-align: center;}#sk-container-id-3 label.sk-toggleable__label-arrow:before {content: \"▸\";float: left;margin-right: 0.25em;color: #696969;}#sk-container-id-3 label.sk-toggleable__label-arrow:hover:before {color: black;}#sk-container-id-3 div.sk-estimator:hover label.sk-toggleable__label-arrow:before {color: black;}#sk-container-id-3 div.sk-toggleable__content {max-height: 0;max-width: 0;overflow: hidden;text-align: left;background-color: #f0f8ff;}#sk-container-id-3 div.sk-toggleable__content pre {margin: 0.2em;color: black;border-radius: 0.25em;background-color: #f0f8ff;}#sk-container-id-3 input.sk-toggleable__control:checked~div.sk-toggleable__content {max-height: 200px;max-width: 100%;overflow: auto;}#sk-container-id-3 input.sk-toggleable__control:checked~label.sk-toggleable__label-arrow:before {content: \"▾\";}#sk-container-id-3 div.sk-estimator input.sk-toggleable__control:checked~label.sk-toggleable__label {background-color: #d4ebff;}#sk-container-id-3 div.sk-label input.sk-toggleable__control:checked~label.sk-toggleable__label {background-color: #d4ebff;}#sk-container-id-3 input.sk-hidden--visually {border: 0;clip: rect(1px 1px 1px 1px);clip: rect(1px, 1px, 1px, 1px);height: 1px;margin: -1px;overflow: hidden;padding: 0;position: absolute;width: 1px;}#sk-container-id-3 div.sk-estimator {font-family: monospace;background-color: #f0f8ff;border: 1px dotted black;border-radius: 0.25em;box-sizing: border-box;margin-bottom: 0.5em;}#sk-container-id-3 div.sk-estimator:hover {background-color: #d4ebff;}#sk-container-id-3 div.sk-parallel-item::after {content: \"\";width: 100%;border-bottom: 1px solid gray;flex-grow: 1;}#sk-container-id-3 div.sk-label:hover label.sk-toggleable__label {background-color: #d4ebff;}#sk-container-id-3 div.sk-serial::before {content: \"\";position: absolute;border-left: 1px solid gray;box-sizing: border-box;top: 0;bottom: 0;left: 50%;z-index: 0;}#sk-container-id-3 div.sk-serial {display: flex;flex-direction: column;align-items: center;background-color: white;padding-right: 0.2em;padding-left: 0.2em;position: relative;}#sk-container-id-3 div.sk-item {position: relative;z-index: 1;}#sk-container-id-3 div.sk-parallel {display: flex;align-items: stretch;justify-content: center;background-color: white;position: relative;}#sk-container-id-3 div.sk-item::before, #sk-container-id-3 div.sk-parallel-item::before {content: \"\";position: absolute;border-left: 1px solid gray;box-sizing: border-box;top: 0;bottom: 0;left: 50%;z-index: -1;}#sk-container-id-3 div.sk-parallel-item {display: flex;flex-direction: column;z-index: 1;position: relative;background-color: white;}#sk-container-id-3 div.sk-parallel-item:first-child::after {align-self: flex-end;width: 50%;}#sk-container-id-3 div.sk-parallel-item:last-child::after {align-self: flex-start;width: 50%;}#sk-container-id-3 div.sk-parallel-item:only-child::after {width: 0;}#sk-container-id-3 div.sk-dashed-wrapped {border: 1px dashed gray;margin: 0 0.4em 0.5em 0.4em;box-sizing: border-box;padding-bottom: 0.4em;background-color: white;}#sk-container-id-3 div.sk-label label {font-family: monospace;font-weight: bold;display: inline-block;line-height: 1.2em;}#sk-container-id-3 div.sk-label-container {text-align: center;}#sk-container-id-3 div.sk-container {/* jupyter's `normalize.less` sets `[hidden] { display: none; }` but bootstrap.min.css set `[hidden] { display: none !important; }` so we also need the `!important` here to be able to override the default hidden behavior on the sphinx rendered scikit-learn.org. See: https://github.com/scikit-learn/scikit-learn/issues/21755 */display: inline-block !important;position: relative;}#sk-container-id-3 div.sk-text-repr-fallback {display: none;}</style><div id=\"sk-container-id-3\" class=\"sk-top-container\"><div class=\"sk-text-repr-fallback\"><pre>RandomForestClassifier(max_depth=10, n_estimators=91)</pre><b>In a Jupyter environment, please rerun this cell to show the HTML representation or trust the notebook. <br />On GitHub, the HTML representation is unable to render, please try loading this page with nbviewer.org.</b></div><div class=\"sk-container\" hidden><div class=\"sk-item\"><div class=\"sk-estimator sk-toggleable\"><input class=\"sk-toggleable__control sk-hidden--visually\" id=\"sk-estimator-id-8\" type=\"checkbox\" checked><label for=\"sk-estimator-id-8\" class=\"sk-toggleable__label sk-toggleable__label-arrow\">RandomForestClassifier</label><div class=\"sk-toggleable__content\"><pre>RandomForestClassifier(max_depth=10, n_estimators=91)</pre></div></div></div></div></div>"
            ]
          },
          "metadata": {},
          "execution_count": 23
        }
      ],
      "source": [
        "labelEncoder = LabelEncoder()\n",
        "df_stellar['class'] = labelEncoder.fit_transform(df_stellar['class']) #Galaxy = 0, qso = 1, star = 2\n",
        "\n",
        "X = df_stellar[['alpha', 'delta', 'u', 'g', 'r', 'i', 'z', 'redshift']]\n",
        "y = df_stellar['class'].values\n",
        "\n",
        "X_train, X_test, y_train, y_test = train_test_split(X, y, test_size=0.2, random_state=1, stratify=y)\n",
        "\n",
        "param_dist = {'n_estimators': randint(50,500),\n",
        "          'max_depth': randint(1,20)}\n",
        "\n",
        "# Create a random forest classifier\n",
        "rf = RandomForestClassifier(n_estimators=91, max_depth=10)\n",
        "\n",
        "rf.fit(X_train, y_train)"
      ]
    },
    {
      "cell_type": "markdown",
      "metadata": {
        "id": "Og3K8f979zAu"
      },
      "source": [
        "### Testing"
      ]
    },
    {
      "cell_type": "code",
      "execution_count": null,
      "metadata": {
        "id": "ifjql8fo9yeb",
        "colab": {
          "base_uri": "https://localhost:8080/"
        },
        "outputId": "6ce922e2-08dd-4fa3-facf-793bc3a25f0a"
      },
      "outputs": [
        {
          "output_type": "execute_result",
          "data": {
            "text/plain": [
              "(0.9741117562821581, 0.9678215627936374, 0.9707790676076083)"
            ]
          },
          "metadata": {},
          "execution_count": 24
        }
      ],
      "source": [
        "precision_score(y_test, rf.predict(X_test), average='macro'), recall_score(y_test, rf.predict(X_test), average='macro'), f1_score(y_test, rf.predict(X_test), average='macro')\n"
      ]
    },
    {
      "cell_type": "code",
      "execution_count": null,
      "metadata": {
        "id": "N6Q4aASl-acD"
      },
      "outputs": [],
      "source": [
        "with open('randomForest_model', 'wb') as pickle_file:\n",
        "        pickle.dump(gs_model, pickle_file)"
      ]
    },
    {
      "cell_type": "markdown",
      "metadata": {
        "id": "Nt0LEc4epZnM"
      },
      "source": [
        "## Naive Bayes"
      ]
    },
    {
      "cell_type": "code",
      "execution_count": null,
      "metadata": {
        "id": "eC0GTUO8pb4g",
        "colab": {
          "base_uri": "https://localhost:8080/"
        },
        "outputId": "9133aec8-7487-4143-e79d-6f1fd335d186"
      },
      "outputs": [
        {
          "output_type": "stream",
          "name": "stdout",
          "text": [
            "precision: 0.6278202956495128\n",
            "recall: 0.8011903929524724\n",
            "F1 Score: 0.5800599183088743\n"
          ]
        }
      ],
      "source": [
        "X = df_stellar[['alpha', 'delta', 'u', 'g', 'r', 'i', 'z', 'redshift']]\n",
        "y = df_stellar['class'].values\n",
        "\n",
        "X_train, X_test, y_train, y_test = train_test_split(X, y, test_size=0.2, random_state=1, stratify=y)\n",
        "\n",
        "# Build a Gaussian Classifier\n",
        "naiveBayesModel = GaussianNB()\n",
        "\n",
        "# Model training\n",
        "naiveBayesModel.fit(X_train, y_train)\n",
        "\n",
        "# Predict Output\n",
        "y_pred = naiveBayesModel.predict(X_test)\n",
        "accuracy = accuracy_score(y_pred, y_test)\n",
        "f1 = f1_score(y_pred, y_test, average=\"macro\")\n",
        "\n",
        "print(\"precision:\", precision_score(y_pred, y_test, average='macro'))\n",
        "print('recall:', recall_score(y_pred, y_test, average='macro'))\n",
        "print(\"F1 Score:\", f1)\n",
        "\n",
        "with open('naiveBayes_model', 'wb') as pickle_file:\n",
        "        pickle.dump(naiveBayesModel, pickle_file)\n"
      ]
    },
    {
      "cell_type": "markdown",
      "metadata": {
        "id": "YiBD3UVqq0aC"
      },
      "source": [
        "## Predictions"
      ]
    },
    {
      "cell_type": "markdown",
      "metadata": {
        "id": "Jq_pJNdxCJHe"
      },
      "source": [
        "Now we will make predictions on some new data. While this data was already used to generate the model, this is just to demonstrate making predictions. The expected output for each of these three predictions is [\"Galaxy\", \"Star\", \"QSO\"]."
      ]
    },
    {
      "cell_type": "code",
      "execution_count": null,
      "metadata": {
        "id": "vZmWxdqMrwLD",
        "colab": {
          "base_uri": "https://localhost:8080/",
          "height": 75
        },
        "outputId": "dd928353-612e-4ed9-bfe9-cc067a7887aa"
      },
      "outputs": [
        {
          "output_type": "execute_result",
          "data": {
            "text/plain": [
              "StandardScaler()"
            ],
            "text/html": [
              "<style>#sk-container-id-6 {color: black;background-color: white;}#sk-container-id-6 pre{padding: 0;}#sk-container-id-6 div.sk-toggleable {background-color: white;}#sk-container-id-6 label.sk-toggleable__label {cursor: pointer;display: block;width: 100%;margin-bottom: 0;padding: 0.3em;box-sizing: border-box;text-align: center;}#sk-container-id-6 label.sk-toggleable__label-arrow:before {content: \"▸\";float: left;margin-right: 0.25em;color: #696969;}#sk-container-id-6 label.sk-toggleable__label-arrow:hover:before {color: black;}#sk-container-id-6 div.sk-estimator:hover label.sk-toggleable__label-arrow:before {color: black;}#sk-container-id-6 div.sk-toggleable__content {max-height: 0;max-width: 0;overflow: hidden;text-align: left;background-color: #f0f8ff;}#sk-container-id-6 div.sk-toggleable__content pre {margin: 0.2em;color: black;border-radius: 0.25em;background-color: #f0f8ff;}#sk-container-id-6 input.sk-toggleable__control:checked~div.sk-toggleable__content {max-height: 200px;max-width: 100%;overflow: auto;}#sk-container-id-6 input.sk-toggleable__control:checked~label.sk-toggleable__label-arrow:before {content: \"▾\";}#sk-container-id-6 div.sk-estimator input.sk-toggleable__control:checked~label.sk-toggleable__label {background-color: #d4ebff;}#sk-container-id-6 div.sk-label input.sk-toggleable__control:checked~label.sk-toggleable__label {background-color: #d4ebff;}#sk-container-id-6 input.sk-hidden--visually {border: 0;clip: rect(1px 1px 1px 1px);clip: rect(1px, 1px, 1px, 1px);height: 1px;margin: -1px;overflow: hidden;padding: 0;position: absolute;width: 1px;}#sk-container-id-6 div.sk-estimator {font-family: monospace;background-color: #f0f8ff;border: 1px dotted black;border-radius: 0.25em;box-sizing: border-box;margin-bottom: 0.5em;}#sk-container-id-6 div.sk-estimator:hover {background-color: #d4ebff;}#sk-container-id-6 div.sk-parallel-item::after {content: \"\";width: 100%;border-bottom: 1px solid gray;flex-grow: 1;}#sk-container-id-6 div.sk-label:hover label.sk-toggleable__label {background-color: #d4ebff;}#sk-container-id-6 div.sk-serial::before {content: \"\";position: absolute;border-left: 1px solid gray;box-sizing: border-box;top: 0;bottom: 0;left: 50%;z-index: 0;}#sk-container-id-6 div.sk-serial {display: flex;flex-direction: column;align-items: center;background-color: white;padding-right: 0.2em;padding-left: 0.2em;position: relative;}#sk-container-id-6 div.sk-item {position: relative;z-index: 1;}#sk-container-id-6 div.sk-parallel {display: flex;align-items: stretch;justify-content: center;background-color: white;position: relative;}#sk-container-id-6 div.sk-item::before, #sk-container-id-6 div.sk-parallel-item::before {content: \"\";position: absolute;border-left: 1px solid gray;box-sizing: border-box;top: 0;bottom: 0;left: 50%;z-index: -1;}#sk-container-id-6 div.sk-parallel-item {display: flex;flex-direction: column;z-index: 1;position: relative;background-color: white;}#sk-container-id-6 div.sk-parallel-item:first-child::after {align-self: flex-end;width: 50%;}#sk-container-id-6 div.sk-parallel-item:last-child::after {align-self: flex-start;width: 50%;}#sk-container-id-6 div.sk-parallel-item:only-child::after {width: 0;}#sk-container-id-6 div.sk-dashed-wrapped {border: 1px dashed gray;margin: 0 0.4em 0.5em 0.4em;box-sizing: border-box;padding-bottom: 0.4em;background-color: white;}#sk-container-id-6 div.sk-label label {font-family: monospace;font-weight: bold;display: inline-block;line-height: 1.2em;}#sk-container-id-6 div.sk-label-container {text-align: center;}#sk-container-id-6 div.sk-container {/* jupyter's `normalize.less` sets `[hidden] { display: none; }` but bootstrap.min.css set `[hidden] { display: none !important; }` so we also need the `!important` here to be able to override the default hidden behavior on the sphinx rendered scikit-learn.org. See: https://github.com/scikit-learn/scikit-learn/issues/21755 */display: inline-block !important;position: relative;}#sk-container-id-6 div.sk-text-repr-fallback {display: none;}</style><div id=\"sk-container-id-6\" class=\"sk-top-container\"><div class=\"sk-text-repr-fallback\"><pre>StandardScaler()</pre><b>In a Jupyter environment, please rerun this cell to show the HTML representation or trust the notebook. <br />On GitHub, the HTML representation is unable to render, please try loading this page with nbviewer.org.</b></div><div class=\"sk-container\" hidden><div class=\"sk-item\"><div class=\"sk-estimator sk-toggleable\"><input class=\"sk-toggleable__control sk-hidden--visually\" id=\"sk-estimator-id-11\" type=\"checkbox\" checked><label for=\"sk-estimator-id-11\" class=\"sk-toggleable__label sk-toggleable__label-arrow\">StandardScaler</label><div class=\"sk-toggleable__content\"><pre>StandardScaler()</pre></div></div></div></div></div>"
            ]
          },
          "metadata": {},
          "execution_count": 43
        }
      ],
      "source": [
        "df_stellar = pd.read_csv('/content/star_classification.csv')\n",
        "feat = df_stellar[['alpha', 'delta', 'u', 'g', 'r', 'i', 'z', 'redshift']]\n",
        "scaler = StandardScaler()\n",
        "scaler.fit(feat)"
      ]
    },
    {
      "cell_type": "code",
      "execution_count": null,
      "metadata": {
        "id": "WHOMZpnm-OaO"
      },
      "outputs": [],
      "source": [
        "df_new = pd.read_csv('new_data.csv')\n",
        "X = df_new[['alpha', 'delta', 'u', 'g', 'r', 'i', 'z', 'redshift']]\n",
        "X_scaled = scaler.transform(X)"
      ]
    },
    {
      "cell_type": "code",
      "execution_count": null,
      "metadata": {
        "id": "u-wKjDUwGWBj",
        "colab": {
          "base_uri": "https://localhost:8080/"
        },
        "outputId": "76cab2b8-5e49-46e1-a695-65214f51fe47"
      },
      "outputs": [
        {
          "output_type": "execute_result",
          "data": {
            "text/plain": [
              "array(['GALAXY', 'STAR', 'QSO'], dtype=object)"
            ]
          },
          "metadata": {},
          "execution_count": 45
        }
      ],
      "source": [
        "with open('kNN_model', 'rb') as pickle_file:\n",
        "        kNNModel = pickle.load(pickle_file)\n",
        "\n",
        "kNNModel.predict(X)"
      ]
    },
    {
      "cell_type": "code",
      "execution_count": null,
      "metadata": {
        "id": "DR4MSrTTGemx",
        "colab": {
          "base_uri": "https://localhost:8080/"
        },
        "outputId": "9cd76989-37e6-4e05-86c6-0ff30a070ea2"
      },
      "outputs": [
        {
          "output_type": "stream",
          "name": "stdout",
          "text": [
            "1/1 [==============================] - 0s 64ms/step\n"
          ]
        },
        {
          "output_type": "execute_result",
          "data": {
            "text/plain": [
              "['GALAXY', 'STAR', 'QSO']"
            ]
          },
          "metadata": {},
          "execution_count": 46
        }
      ],
      "source": [
        "with open('neuralNetwork_model', 'rb') as pickle_file:\n",
        "        neuralNetworkModel = pickle.load(pickle_file)\n",
        "\n",
        "# neuralNetworkModel.predict(X)\n",
        "output = []\n",
        "predicted = np.argmax(neuralNetworkModel.predict(X_scaled), axis=1)\n",
        "\n",
        "for pred in predicted:\n",
        "  if pred == 0:\n",
        "      output.append('GALAXY')\n",
        "  elif pred == 1:\n",
        "      output.append('QSO')\n",
        "  else:\n",
        "      output.append('STAR')\n",
        "\n",
        "output"
      ]
    },
    {
      "cell_type": "code",
      "execution_count": null,
      "metadata": {
        "id": "rBlYROgcGwqa",
        "colab": {
          "base_uri": "https://localhost:8080/"
        },
        "outputId": "94171718-7e57-43af-923d-4a26e15d14bc"
      },
      "outputs": [
        {
          "output_type": "execute_result",
          "data": {
            "text/plain": [
              "['GALAXY', 'STAR', 'QSO']"
            ]
          },
          "metadata": {},
          "execution_count": 47
        }
      ],
      "source": [
        "with open('SVM_model', 'rb') as pickle_file:\n",
        "        SVMModel = pickle.load(pickle_file)\n",
        "\n",
        "SVMModel.predict(X_scaled)\n",
        "\n",
        "output = []\n",
        "\n",
        "for pred in predicted:\n",
        "  if pred == 0:\n",
        "      output.append('GALAXY')\n",
        "  elif pred == 1:\n",
        "      output.append('QSO')\n",
        "  else:\n",
        "      output.append('STAR')\n",
        "\n",
        "output"
      ]
    },
    {
      "cell_type": "code",
      "execution_count": null,
      "metadata": {
        "id": "Snex70E9Mp47",
        "colab": {
          "base_uri": "https://localhost:8080/"
        },
        "outputId": "a0548391-e677-4426-e752-f0a34cf86cb3"
      },
      "outputs": [
        {
          "output_type": "execute_result",
          "data": {
            "text/plain": [
              "['GALAXY', 'STAR', 'QSO']"
            ]
          },
          "metadata": {},
          "execution_count": 48
        }
      ],
      "source": [
        "with open('decisionTree_model', 'rb') as pickle_file:\n",
        "        decisionTreeModel = pickle.load(pickle_file)\n",
        "\n",
        "decisionTreeModel.predict(X)\n",
        "\n",
        "output = []\n",
        "\n",
        "for pred in predicted:\n",
        "  if pred == 0:\n",
        "      output.append('GALAXY')\n",
        "  elif pred == 1:\n",
        "      output.append('QSO')\n",
        "  else:\n",
        "      output.append('STAR')\n",
        "\n",
        "output"
      ]
    },
    {
      "cell_type": "code",
      "execution_count": null,
      "metadata": {
        "id": "0f0xWPJ4MxYU",
        "colab": {
          "base_uri": "https://localhost:8080/"
        },
        "outputId": "42b87b6d-57f5-4496-ac1a-1b3bc31c1a9a"
      },
      "outputs": [
        {
          "output_type": "execute_result",
          "data": {
            "text/plain": [
              "['GALAXY', 'STAR', 'QSO']"
            ]
          },
          "metadata": {},
          "execution_count": 49
        }
      ],
      "source": [
        "with open('randomForest_model', 'rb') as pickle_file:\n",
        "        rfModel = pickle.load(pickle_file)\n",
        "\n",
        "rfModel.predict(X)\n",
        "\n",
        "output = []\n",
        "\n",
        "for pred in predicted:\n",
        "  if pred == 0:\n",
        "      output.append('GALAXY')\n",
        "  elif pred == 1:\n",
        "      output.append('QSO')\n",
        "  else:\n",
        "      output.append('STAR')\n",
        "\n",
        "output"
      ]
    },
    {
      "cell_type": "code",
      "execution_count": null,
      "metadata": {
        "id": "bj-wv1klUNGk",
        "colab": {
          "base_uri": "https://localhost:8080/"
        },
        "outputId": "241d51bb-87d8-431d-ec6b-dba4b31118a3"
      },
      "outputs": [
        {
          "output_type": "execute_result",
          "data": {
            "text/plain": [
              "['GALAXY', 'STAR', 'QSO']"
            ]
          },
          "metadata": {},
          "execution_count": 50
        }
      ],
      "source": [
        "with open('naiveBayes_model', 'rb') as pickle_file:\n",
        "        naiveBayesModel = pickle.load(pickle_file)\n",
        "\n",
        "naiveBayesModel.predict(X)\n",
        "\n",
        "output = []\n",
        "\n",
        "for pred in predicted:\n",
        "  if pred == 0:\n",
        "      output.append('GALAXY')\n",
        "  elif pred == 1:\n",
        "      output.append('QSO')\n",
        "  else:\n",
        "      output.append('STAR')\n",
        "\n",
        "output"
      ]
    },
    {
      "cell_type": "code",
      "execution_count": null,
      "metadata": {
        "id": "l5tUYMwY-lHC"
      },
      "outputs": [],
      "source": []
    }
  ],
  "metadata": {
    "colab": {
      "provenance": []
    },
    "kernelspec": {
      "display_name": "Python 3",
      "name": "python3"
    },
    "language_info": {
      "name": "python"
    }
  },
  "nbformat": 4,
  "nbformat_minor": 0
}